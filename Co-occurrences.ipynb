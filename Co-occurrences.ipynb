{
 "cells": [
  {
   "cell_type": "code",
   "execution_count": null,
   "id": "stretch-terror",
   "metadata": {},
   "outputs": [],
   "source": [
    "import helpers as hp\n",
    "# import Preprocessing - Separating Recipes as prep\n",
    "from preprocess import pos_tag_db, lemmatize_db\n",
    "import nltk\n",
    "from itertools import permutations, chain\n",
    "from collections import Counter\n",
    "from nltk.metrics import BigramAssocMeasures\n",
    "from math import log"
   ]
  },
  {
   "cell_type": "code",
   "execution_count": null,
   "id": "oriented-calendar",
   "metadata": {},
   "outputs": [],
   "source": [
    "# co occurrences \n",
    "\n",
    "# we need to add a function that changes the pos-tag of all ingredients to 'ingre' instead of nouns\n",
    "\n",
    "spansize = 5 # symmetric ±5w span\n",
    "\n",
    "cooccs_surface = Counter()\n",
    "\n",
    "for recipe in lemmatized: # lemmatized? not sure it's the right one\n",
    "    for i,w in enumerate(recipe):\n",
    "        if w.split(\"-\")[-1] in [\"ingre\"]: # ingredients is the target vectors \n",
    "            span_range = list(range(max(i - spansize, 0), i)) # left side indices (range, then list so we can extend)\n",
    "            span_range.extend(range(i + 1, min(i + spansize + 1, len(recipe)))) # extend by right side indices\n",
    "            for cw in [recipe[idx] for idx in span_range]:\n",
    "                cooccs_surface[(w, cw)] += 1"
   ]
  },
  {
   "cell_type": "code",
   "execution_count": null,
   "id": "religious-tobago",
   "metadata": {},
   "outputs": [],
   "source": [
    "cooccs_surface.most_common(20) # print 20 most common co-occurrences"
   ]
  },
  {
   "cell_type": "code",
   "execution_count": null,
   "id": "inclusive-section",
   "metadata": {},
   "outputs": [],
   "source": [
    "# filtering least and most frequent lemmas \n",
    "\n",
    "# least frequent\n",
    "lemmas_frequencies = Counter(chain(*lemmatized))\n",
    "print(\"least common lemmas:\", list(reversed(lemmas_frequencies.most_common()))[:20])\n",
    "\n",
    "# most frequent \n",
    "print(\"most common lemmas:\", lemmas_frequencies.most_common(20))"
   ]
  },
  {
   "cell_type": "code",
   "execution_count": null,
   "id": "willing-shanghai",
   "metadata": {},
   "outputs": [],
   "source": [
    "filtered_lemmas_frequencies = Counter()\n",
    "selected_ingre_frequencies = Counter()\n",
    "\n",
    "for k,v in lemmas_frequencies.items():\n",
    "    pos = k.split(\"-\")[-1]\n",
    "    if v >= 10 and \\\n",
    "    pos in [\"NN\", \"NNS\", \"NNP\", \"NNPS\", \"JJ\", \"JJR\", \"JJS\", \"VB\", \"VBD\", \"VBG\", \"VBN\", \"VBP\", \"VBZ\", \"IN\", \"CD\", \"ingre\"]\n",
    "        filtered_lemmas_frequencies[k] = v\n",
    "        if pos == \"ingre\" : # targeting all ingredients\n",
    "            selected_ingre_frequencies[k] = v\n",
    "\n",
    "print(\">>\", len(filtered_lemmas_frequencies), \"context lemmas\")\n",
    "print(filtered_lemmas_frequencies.most_common(20))\n",
    "print(\">>\", len(selected_ingre_frequencies), \"target nouns\")"
   ]
  },
  {
   "cell_type": "code",
   "execution_count": null,
   "id": "stuck-overhead",
   "metadata": {},
   "outputs": [],
   "source": [
    "# filtered co-occurrences\n",
    "\n",
    "filtered_cooccs_surface = Counter()\n",
    "\n",
    "for k,v in cooccs_surface.items():\n",
    "    if k[0] in selected_ingre_frequencies and k[1] in filtered_lemmas_frequencies:\n",
    "        filtered_cooccs_surface[k] = v"
   ]
  },
  {
   "cell_type": "code",
   "execution_count": null,
   "id": "solar-joyce",
   "metadata": {},
   "outputs": [],
   "source": [
    "filtered_cooccs_surface.most_common(20) # print 20 filteres most common co-occurrences"
   ]
  },
  {
   "cell_type": "code",
   "execution_count": null,
   "id": "adjacent-angle",
   "metadata": {},
   "outputs": [],
   "source": [
    "# vector representations \n",
    "\n",
    "# Measure of choice - sppmi\n",
    "\n",
    "def sppmi(o_11, r_1, c_1, all_freqs_sum, n):\n",
    "    \"\"\"Smoothed Positive Pointwise Mutual Information\"\"\"\n",
    "    return ppmi(o_11, r_1, (c_1**0.75)/all_freqs_sum, n)\n",
    "\n",
    "sppmi_surface = Counter()\n",
    "\n",
    "N = sum(cooccs_surface.values())  # note that this is NOT the reduced dictionary\n",
    "s = sum([v**0.75 for v in reuters_lemmas_frequencies.values()]) # calculating Pa(c)\n",
    "\n",
    "for k,v in filtered_cooccs_surface.items():\n",
    "    sppmi_surface[k] = sppmi(v, lemmas_frequencies[k[0]], lemmas_frequencies[k[1]], s, N) "
   ]
  },
  {
   "cell_type": "code",
   "execution_count": null,
   "id": "heard-contribution",
   "metadata": {},
   "outputs": [],
   "source": [
    "sppmi_surface.most_common(15) "
   ]
  }
 ],
 "metadata": {
  "kernelspec": {
   "display_name": "Python 3",
   "language": "python",
   "name": "python3"
  },
  "language_info": {
   "codemirror_mode": {
    "name": "ipython",
    "version": 3
   },
   "file_extension": ".py",
   "mimetype": "text/x-python",
   "name": "python",
   "nbconvert_exporter": "python",
   "pygments_lexer": "ipython3",
   "version": "3.7.9"
  },
  "toc": {
   "base_numbering": 1,
   "nav_menu": {},
   "number_sections": true,
   "sideBar": true,
   "skip_h1_title": false,
   "title_cell": "Table of Contents",
   "title_sidebar": "Contents",
   "toc_cell": false,
   "toc_position": {},
   "toc_section_display": true,
   "toc_window_display": false
  }
 },
 "nbformat": 4,
 "nbformat_minor": 5
}
