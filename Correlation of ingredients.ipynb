{
 "cells": [
  {
   "cell_type": "markdown",
   "metadata": {},
   "source": [
    "# Correlation of ingredients"
   ]
  },
  {
   "cell_type": "markdown",
   "metadata": {},
   "source": [
    "Objective: find the correlation between ingredients. Which occur together most often, and which do not?\n",
    "- Iterate throught the ingredient column in the recipe CSV and create a contextual co-occurence frequency table of ingredients"
   ]
  },
  {
   "cell_type": "code",
   "execution_count": 20,
   "metadata": {},
   "outputs": [
    {
     "data": {
      "text/plain": [
       "0    {'parsley', 'orange', 'juice', 'mushroom', 'ma...\n",
       "1    {'oil', 'onion', 'vegetable', 'yeast', 'pepper...\n",
       "2    {'turmeric', 'hake', 'garlic', 'sage', 'redien...\n",
       "3    {'bread', 'garlic', 'sage', 'redients', 'thyme...\n",
       "4    {'oil', 'onion', 'corn', 'redients', 'gravy', ...\n",
       "Name: INGREDIENTS, dtype: object"
      ]
     },
     "execution_count": 20,
     "metadata": {},
     "output_type": "execute_result"
    }
   ],
   "source": [
    "import pandas as pd\n",
    "#dataset 1 - vegetarian\n",
    "df = pd.read_csv('recipes_veg.csv')\n",
    "saved_veg = df['INGREDIENTS'] \n",
    "#dataset 3 - armed\n",
    "df = pd.read_csv('recipes_armed.csv')\n",
    "saved_armed = df['INGREDIENTS'] \n",
    "#dataset 4 - common\n",
    "df = pd.read_csv('recipes_common.csv')\n",
    "saved_common = df['INGREDIENTS'] \n",
    "\n",
    "frames = [saved_veg, saved_armed, saved_common]\n",
    "#creating one dataframe with the set of ingredients\n",
    "result = pd.concat(frames)\n",
    "result.head()"
   ]
  },
  {
   "cell_type": "code",
   "execution_count": 21,
   "metadata": {},
   "outputs": [],
   "source": [
    "#importing libraries\n",
    "from itertools import permutations\n",
    "from collections import Counter\n",
    "\n",
    "cooccs_surface = Counter()\n",
    "#contextual coocurrence\n",
    "for row in result:\n",
    "    for i,w in enumerate(row):\n",
    "        row = row.replace('}', \"\")\n",
    "        row = row.replace('{', \"\")\n",
    "        for w in row.split(','):\n",
    "            for cw in row.split(','):\n",
    "                if cw != w:\n",
    "                    cooccs_surface[(w, cw)] += 1\n",
    "    "
   ]
  },
  {
   "cell_type": "code",
   "execution_count": 22,
   "metadata": {},
   "outputs": [
    {
     "data": {
      "text/plain": [
       "[((\" 'salt'\", \" 'water'\"), 50048),\n",
       " ((\" 'water'\", \" 'salt'\"), 50048),\n",
       " ((\" 'rain'\", \" 'water'\"), 38607),\n",
       " ((\" 'water'\", \" 'rain'\"), 38607),\n",
       " ((\" 'oil'\", \" 'water'\"), 37085),\n",
       " ((\" 'water'\", \" 'oil'\"), 37085),\n",
       " ((\" 'pepper'\", \" 'water'\"), 33824),\n",
       " ((\" 'water'\", \" 'pepper'\"), 33824),\n",
       " ((\" 'flour'\", \" 'water'\"), 32952),\n",
       " ((\" 'water'\", \" 'flour'\"), 32952),\n",
       " ((\" 'oil'\", \" 'salt'\"), 32459),\n",
       " ((\" 'salt'\", \" 'oil'\"), 32459),\n",
       " ((\" 'sugar'\", \" 'water'\"), 32406),\n",
       " ((\" 'water'\", \" 'sugar'\"), 32406),\n",
       " ((\" 'sugar'\", \" 'salt'\"), 31790),\n",
       " ((\" 'salt'\", \" 'sugar'\"), 31790),\n",
       " ((\" 'salt'\", \" 'flour'\"), 31766),\n",
       " ((\" 'flour'\", \" 'salt'\"), 31766),\n",
       " ((\" 'ice'\", \" 'water'\"), 31275),\n",
       " ((\" 'water'\", \" 'ice'\"), 31275),\n",
       " ((\" 'rain'\", \" 'salt'\"), 31198),\n",
       " ((\" 'salt'\", \" 'rain'\"), 31198),\n",
       " ((\" 'pepper'\", \" 'salt'\"), 29467),\n",
       " ((\" 'salt'\", \" 'pepper'\"), 29467),\n",
       " ((\" 'onion'\", \" 'water'\"), 29348),\n",
       " ((\" 'water'\", \" 'onion'\"), 29348),\n",
       " ((\" 'onion'\", \" 'pepper'\"), 28605),\n",
       " ((\" 'pepper'\", \" 'onion'\"), 28605),\n",
       " ((\" 'shortening'\", \" 'water'\"), 26589),\n",
       " ((\" 'water'\", \" 'shortening'\"), 26589),\n",
       " ((\" 'oil'\", \" 'rain'\"), 25755),\n",
       " ((\" 'rain'\", \" 'oil'\"), 25755),\n",
       " ((\" 'rain'\", \" 'pepper'\"), 25711),\n",
       " ((\" 'pepper'\", \" 'rain'\"), 25711),\n",
       " ((\" 'flour'\", \" 'sugar'\"), 25531),\n",
       " ((\" 'sugar'\", \" 'flour'\"), 25531),\n",
       " ((\" 'milk'\", \" 'water'\"), 25494),\n",
       " ((\" 'water'\", \" 'milk'\"), 25494),\n",
       " ((\" 'oil'\", \" 'pepper'\"), 25348),\n",
       " ((\" 'pepper'\", \" 'oil'\"), 25348),\n",
       " ((\" 'ice'\", \" 'salt'\"), 25033),\n",
       " ((\" 'salt'\", \" 'ice'\"), 25033),\n",
       " ((\" 'salt'\", \" 'shortening'\"), 24904),\n",
       " ((\" 'shortening'\", \" 'salt'\"), 24904),\n",
       " ((\" 'milk'\", \" 'salt'\"), 24854),\n",
       " ((\" 'salt'\", \" 'milk'\"), 24854),\n",
       " ((\" 'onion'\", \" 'salt'\"), 24474),\n",
       " ((\" 'salt'\", \" 'onion'\"), 24474),\n",
       " ((\" 'oil'\", \" 'onion'\"), 24099),\n",
       " ((\" 'onion'\", \" 'oil'\"), 24099),\n",
       " ((\" 'onion'\", \" 'ice'\"), 23681),\n",
       " ((\" 'ice'\", \" 'onion'\"), 23681),\n",
       " ((\" 'pepper'\", \" 'ice'\"), 23674),\n",
       " ((\" 'ice'\", \" 'pepper'\"), 23674),\n",
       " ((\" 'ice'\", \" 'oil'\"), 23632),\n",
       " ((\" 'oil'\", \" 'ice'\"), 23632),\n",
       " ((\" 'rain'\", \" 'ice'\"), 23274),\n",
       " ((\" 'ice'\", \" 'rain'\"), 23274),\n",
       " ((\" 'cons'\", \" 'water'\"), 22878),\n",
       " ((\" 'water'\", \" 'cons'\"), 22878),\n",
       " ((\" 'flour'\", \" 'shortening'\"), 22681),\n",
       " ((\" 'shortening'\", \" 'flour'\"), 22681),\n",
       " ((\" 'milk'\", \" 'flour'\"), 22531),\n",
       " ((\" 'flour'\", \" 'milk'\"), 22531),\n",
       " ((\" 'garlic'\", \" 'water'\"), 22040),\n",
       " ((\" 'water'\", \" 'garlic'\"), 22040),\n",
       " ((\" 'rain'\", \" 'onion'\"), 21113),\n",
       " ((\" 'onion'\", \" 'rain'\"), 21113),\n",
       " ((\" 'garlic'\", \" 'pepper'\"), 21111),\n",
       " ((\" 'pepper'\", \" 'garlic'\"), 21111),\n",
       " ((\" 'garlic'\", \" 'onion'\"), 20933),\n",
       " ((\" 'onion'\", \" 'garlic'\"), 20933),\n",
       " ((\" 'flour'\", \" 'oil'\"), 20586),\n",
       " ((\" 'oil'\", \" 'flour'\"), 20586),\n",
       " ((\" 'fat'\", \" 'water'\"), 20575),\n",
       " ((\" 'water'\", \" 'fat'\"), 20575),\n",
       " ((\" 'juice'\", \" 'water'\"), 19906),\n",
       " ((\" 'water'\", \" 'juice'\"), 19906),\n",
       " ((\" 'shortening'\", \" 'sugar'\"), 19766),\n",
       " ((\" 'sugar'\", \" 'shortening'\"), 19766),\n",
       " ((\" 'garlic'\", \" 'salt'\"), 19078),\n",
       " ((\" 'salt'\", \" 'garlic'\"), 19078),\n",
       " ((\" 'redients'\", \" 'water'\"), 18952),\n",
       " ((\" 'water'\", \" 'redients'\"), 18952),\n",
       " ((\" 'fat'\", \" 'salt'\"), 18697),\n",
       " ((\" 'salt'\", \" 'fat'\"), 18697),\n",
       " ((\" 'redients'\", \" 'salt'\"), 18607),\n",
       " ((\" 'salt'\", \" 'redients'\"), 18607),\n",
       " ((\" 'sugar'\", \" 'oil'\"), 18552),\n",
       " ((\" 'oil'\", \" 'sugar'\"), 18552),\n",
       " ((\" 'cons'\", \" 'salt'\"), 18484),\n",
       " ((\" 'salt'\", \" 'cons'\"), 18484),\n",
       " ((\"'egg'\", \" 'water'\"), 18401),\n",
       " ((\" 'water'\", \"'egg'\"), 18401),\n",
       " ((\" 'juice'\", \" 'salt'\"), 18248),\n",
       " ((\" 'salt'\", \" 'juice'\"), 18248),\n",
       " ((\"'egg'\", \" 'salt'\"), 18159),\n",
       " ((\" 'salt'\", \"'egg'\"), 18159),\n",
       " ((\" 'milk'\", \" 'sugar'\"), 18083),\n",
       " ((\" 'sugar'\", \" 'milk'\"), 18083)]"
      ]
     },
     "execution_count": 22,
     "metadata": {},
     "output_type": "execute_result"
    }
   ],
   "source": [
    "cooccs_surface.most_common(100)"
   ]
  },
  {
   "cell_type": "markdown",
   "metadata": {},
   "source": [
    "# Correlation of verb with noun, what are the actions? "
   ]
  },
  {
   "cell_type": "code",
   "execution_count": 23,
   "metadata": {},
   "outputs": [
    {
     "data": {
      "text/plain": [
       "0    [('Pierce', 'NOUN'), ('top', 'NOUN'), ('of', '...\n",
       "1    [('In', 'ADP'), ('a', 'DET'), ('one', 'NUM'), ...\n",
       "2    [('Broth', 'DET'), ('for', 'ADP'), ('Boiling',...\n",
       "3    [('Broth', 'DET'), ('for', 'ADP'), ('Boiling',...\n",
       "4    [('In', 'ADP'), ('a', 'DET'), ('medium', 'NOUN...\n",
       "Name: METHOD, dtype: object"
      ]
     },
     "execution_count": 23,
     "metadata": {},
     "output_type": "execute_result"
    }
   ],
   "source": [
    "import pandas as pd\n",
    "#dataset 1 - vegetarian\n",
    "df = pd.read_csv('recipes_veg.csv')\n",
    "saved_veg = df['METHOD'] \n",
    "#dataset 3 - armed\n",
    "df = pd.read_csv('recipes_armed.csv')\n",
    "saved_armed = df['METHOD'] \n",
    "#dataset 4 - common\n",
    "df = pd.read_csv('recipes_common.csv')\n",
    "saved_common = df['METHOD'] \n",
    "\n",
    "frames = [saved_veg, saved_armed, saved_common]\n",
    "#creating one dataframe with the methods\n",
    "method = pd.concat(frames)\n",
    "method.head()"
   ]
  },
  {
   "cell_type": "code",
   "execution_count": 25,
   "metadata": {},
   "outputs": [
    {
     "ename": "IndexError",
     "evalue": "list index out of range",
     "output_type": "error",
     "traceback": [
      "\u001b[0;31m---------------------------------------------------------------------------\u001b[0m",
      "\u001b[0;31mIndexError\u001b[0m                                Traceback (most recent call last)",
      "\u001b[0;32m<ipython-input-25-0a9b1b09fa2f>\u001b[0m in \u001b[0;36m<module>\u001b[0;34m\u001b[0m\n\u001b[1;32m     11\u001b[0m             \u001b[0mspan_range\u001b[0m \u001b[0;34m=\u001b[0m \u001b[0mlist\u001b[0m\u001b[0;34m(\u001b[0m\u001b[0mrange\u001b[0m\u001b[0;34m(\u001b[0m\u001b[0mmax\u001b[0m\u001b[0;34m(\u001b[0m\u001b[0mi\u001b[0m \u001b[0;34m-\u001b[0m \u001b[0mspansize\u001b[0m\u001b[0;34m,\u001b[0m \u001b[0;36m0\u001b[0m\u001b[0;34m)\u001b[0m\u001b[0;34m,\u001b[0m \u001b[0mi\u001b[0m\u001b[0;34m)\u001b[0m\u001b[0;34m)\u001b[0m \u001b[0;31m# left side indices (range, then list so we can extend)\u001b[0m\u001b[0;34m\u001b[0m\u001b[0;34m\u001b[0m\u001b[0m\n\u001b[1;32m     12\u001b[0m             \u001b[0mspan_range\u001b[0m\u001b[0;34m.\u001b[0m\u001b[0mextend\u001b[0m\u001b[0;34m(\u001b[0m\u001b[0mrange\u001b[0m\u001b[0;34m(\u001b[0m\u001b[0mi\u001b[0m \u001b[0;34m+\u001b[0m \u001b[0;36m1\u001b[0m\u001b[0;34m,\u001b[0m \u001b[0mmin\u001b[0m\u001b[0;34m(\u001b[0m\u001b[0mi\u001b[0m \u001b[0;34m+\u001b[0m \u001b[0mspansize\u001b[0m \u001b[0;34m+\u001b[0m \u001b[0;36m1\u001b[0m\u001b[0;34m,\u001b[0m \u001b[0mlen\u001b[0m\u001b[0;34m(\u001b[0m\u001b[0mw\u001b[0m\u001b[0;34m)\u001b[0m\u001b[0;34m)\u001b[0m\u001b[0;34m)\u001b[0m\u001b[0;34m)\u001b[0m \u001b[0;31m# extend by right side indices\u001b[0m\u001b[0;34m\u001b[0m\u001b[0;34m\u001b[0m\u001b[0m\n\u001b[0;32m---> 13\u001b[0;31m             \u001b[0;32mfor\u001b[0m \u001b[0mcw\u001b[0m \u001b[0;32min\u001b[0m \u001b[0;34m[\u001b[0m\u001b[0mrow\u001b[0m\u001b[0;34m[\u001b[0m\u001b[0midx\u001b[0m\u001b[0;34m]\u001b[0m \u001b[0;32mfor\u001b[0m \u001b[0midx\u001b[0m \u001b[0;32min\u001b[0m \u001b[0mspan_range\u001b[0m\u001b[0;34m]\u001b[0m\u001b[0;34m:\u001b[0m\u001b[0;34m\u001b[0m\u001b[0;34m\u001b[0m\u001b[0m\n\u001b[0m\u001b[1;32m     14\u001b[0m                 \u001b[0;32mif\u001b[0m \u001b[0;34m'INGREDIENT'\u001b[0m\u001b[0;32min\u001b[0m \u001b[0mcw\u001b[0m\u001b[0;34m:\u001b[0m\u001b[0;34m\u001b[0m\u001b[0;34m\u001b[0m\u001b[0m\n\u001b[1;32m     15\u001b[0m                     \u001b[0mverb_cooccs_surface\u001b[0m\u001b[0;34m[\u001b[0m\u001b[0;34m(\u001b[0m\u001b[0mw\u001b[0m\u001b[0;34m.\u001b[0m\u001b[0mlower\u001b[0m\u001b[0;34m(\u001b[0m\u001b[0;34m)\u001b[0m\u001b[0;34m,\u001b[0m \u001b[0mcw\u001b[0m\u001b[0;34m)\u001b[0m\u001b[0;34m]\u001b[0m \u001b[0;34m+=\u001b[0m \u001b[0;36m1\u001b[0m\u001b[0;34m\u001b[0m\u001b[0;34m\u001b[0m\u001b[0m\n",
      "\u001b[0;32m<ipython-input-25-0a9b1b09fa2f>\u001b[0m in \u001b[0;36m<listcomp>\u001b[0;34m(.0)\u001b[0m\n\u001b[1;32m     11\u001b[0m             \u001b[0mspan_range\u001b[0m \u001b[0;34m=\u001b[0m \u001b[0mlist\u001b[0m\u001b[0;34m(\u001b[0m\u001b[0mrange\u001b[0m\u001b[0;34m(\u001b[0m\u001b[0mmax\u001b[0m\u001b[0;34m(\u001b[0m\u001b[0mi\u001b[0m \u001b[0;34m-\u001b[0m \u001b[0mspansize\u001b[0m\u001b[0;34m,\u001b[0m \u001b[0;36m0\u001b[0m\u001b[0;34m)\u001b[0m\u001b[0;34m,\u001b[0m \u001b[0mi\u001b[0m\u001b[0;34m)\u001b[0m\u001b[0;34m)\u001b[0m \u001b[0;31m# left side indices (range, then list so we can extend)\u001b[0m\u001b[0;34m\u001b[0m\u001b[0;34m\u001b[0m\u001b[0m\n\u001b[1;32m     12\u001b[0m             \u001b[0mspan_range\u001b[0m\u001b[0;34m.\u001b[0m\u001b[0mextend\u001b[0m\u001b[0;34m(\u001b[0m\u001b[0mrange\u001b[0m\u001b[0;34m(\u001b[0m\u001b[0mi\u001b[0m \u001b[0;34m+\u001b[0m \u001b[0;36m1\u001b[0m\u001b[0;34m,\u001b[0m \u001b[0mmin\u001b[0m\u001b[0;34m(\u001b[0m\u001b[0mi\u001b[0m \u001b[0;34m+\u001b[0m \u001b[0mspansize\u001b[0m \u001b[0;34m+\u001b[0m \u001b[0;36m1\u001b[0m\u001b[0;34m,\u001b[0m \u001b[0mlen\u001b[0m\u001b[0;34m(\u001b[0m\u001b[0mw\u001b[0m\u001b[0;34m)\u001b[0m\u001b[0;34m)\u001b[0m\u001b[0;34m)\u001b[0m\u001b[0;34m)\u001b[0m \u001b[0;31m# extend by right side indices\u001b[0m\u001b[0;34m\u001b[0m\u001b[0;34m\u001b[0m\u001b[0m\n\u001b[0;32m---> 13\u001b[0;31m             \u001b[0;32mfor\u001b[0m \u001b[0mcw\u001b[0m \u001b[0;32min\u001b[0m \u001b[0;34m[\u001b[0m\u001b[0mrow\u001b[0m\u001b[0;34m[\u001b[0m\u001b[0midx\u001b[0m\u001b[0;34m]\u001b[0m \u001b[0;32mfor\u001b[0m \u001b[0midx\u001b[0m \u001b[0;32min\u001b[0m \u001b[0mspan_range\u001b[0m\u001b[0;34m]\u001b[0m\u001b[0;34m:\u001b[0m\u001b[0;34m\u001b[0m\u001b[0;34m\u001b[0m\u001b[0m\n\u001b[0m\u001b[1;32m     14\u001b[0m                 \u001b[0;32mif\u001b[0m \u001b[0;34m'INGREDIENT'\u001b[0m\u001b[0;32min\u001b[0m \u001b[0mcw\u001b[0m\u001b[0;34m:\u001b[0m\u001b[0;34m\u001b[0m\u001b[0;34m\u001b[0m\u001b[0m\n\u001b[1;32m     15\u001b[0m                     \u001b[0mverb_cooccs_surface\u001b[0m\u001b[0;34m[\u001b[0m\u001b[0;34m(\u001b[0m\u001b[0mw\u001b[0m\u001b[0;34m.\u001b[0m\u001b[0mlower\u001b[0m\u001b[0;34m(\u001b[0m\u001b[0;34m)\u001b[0m\u001b[0;34m,\u001b[0m \u001b[0mcw\u001b[0m\u001b[0;34m)\u001b[0m\u001b[0;34m]\u001b[0m \u001b[0;34m+=\u001b[0m \u001b[0;36m1\u001b[0m\u001b[0;34m\u001b[0m\u001b[0;34m\u001b[0m\u001b[0m\n",
      "\u001b[0;31mIndexError\u001b[0m: list index out of range"
     ]
    }
   ],
   "source": [
    "from collections import Counter\n",
    "verb_cooccs_surface = Counter()\n",
    "#\"cut the apple\", boil the broccoli etc. Only look at the right side form the verb.\n",
    "spansize = 5\n",
    "for row in method:\n",
    "    row = row.split(\"),\")\n",
    "    for i,w in enumerate(row):\n",
    "        w = w.replace('(', \"\")\n",
    "        w = w.replace('[', \"\")\n",
    "        if \"VERB\" in w:\n",
    "            span_range = list(range(max(i - spansize, 0), i)) # left side indices (range, then list so we can extend)\n",
    "            span_range.extend(range(i + 1, min(i + spansize + 1, len(w)))) # extend by right side indices\n",
    "            for cw in [row[idx] for idx in span_range]:\n",
    "                if 'INGREDIENT'in cw:\n",
    "                    verb_cooccs_surface[(w.lower(), cw)] += 1\n",
    "                \n",
    "                "
   ]
  },
  {
   "cell_type": "code",
   "execution_count": 27,
   "metadata": {},
   "outputs": [
    {
     "data": {
      "text/plain": [
       "[((\" 'add', 'verb'\", \" ('water', 'INGREDIENT'\"), 61),\n",
       " ((\" 'greased', 'verb'\", \" ('batter', 'INGREDIENT'\"), 39),\n",
       " ((\" 'melted', 'verb'\", \" ('salad', 'INGREDIENT'\"), 34),\n",
       " ((\" 'melted', 'verb'\", \" ('oil', 'INGREDIENT'\"), 33),\n",
       " ((\" 'may', 'verb'\", \" ('garlic', 'INGREDIENT'\"), 31),\n",
       " ((\" 'be', 'verb'\", \" ('garlic', 'INGREDIENT'\"), 31),\n",
       " ((\" 'used', 'verb'\", \" ('garlic', 'INGREDIENT'\"), 30),\n",
       " ((\" 'add', 'verb'\", \" ('milk', 'INGREDIENT'\"), 27),\n",
       " ((\" 'boiling', 'verb'\", \" ('water', 'INGREDIENT'\"), 23),\n",
       " ((\" 'minced', 'verb'\", \" ('onion', 'INGREDIENT'\"), 22)]"
      ]
     },
     "execution_count": 27,
     "metadata": {},
     "output_type": "execute_result"
    }
   ],
   "source": [
    "verb_cooccs_surface.most_common(10)"
   ]
  },
  {
   "cell_type": "code",
   "execution_count": null,
   "metadata": {},
   "outputs": [],
   "source": []
  }
 ],
 "metadata": {
  "kernelspec": {
   "display_name": "Python 3",
   "language": "python",
   "name": "python3"
  },
  "language_info": {
   "codemirror_mode": {
    "name": "ipython",
    "version": 3
   },
   "file_extension": ".py",
   "mimetype": "text/x-python",
   "name": "python",
   "nbconvert_exporter": "python",
   "pygments_lexer": "ipython3",
   "version": "3.8.5"
  },
  "toc": {
   "base_numbering": 1,
   "nav_menu": {},
   "number_sections": true,
   "sideBar": true,
   "skip_h1_title": false,
   "title_cell": "Table of Contents",
   "title_sidebar": "Contents",
   "toc_cell": false,
   "toc_position": {},
   "toc_section_display": true,
   "toc_window_display": false
  }
 },
 "nbformat": 4,
 "nbformat_minor": 4
}
