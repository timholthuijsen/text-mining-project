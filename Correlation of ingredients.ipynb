{
 "cells": [
  {
   "cell_type": "markdown",
   "metadata": {},
   "source": [
    "# Correlation of ingredients"
   ]
  },
  {
   "cell_type": "markdown",
   "metadata": {},
   "source": [
    "Objective: find the correlation between ingredients. Which occur together most often, and which do not?\n",
    "- Which ingredients appear most often? Make a word cloud. \n",
    "- Iterate throught the ingredient column in the recipe CSV and create a contextual co-occurence frequency table of ingredients"
   ]
  },
  {
   "cell_type": "code",
   "execution_count": 2,
   "metadata": {},
   "outputs": [
    {
     "data": {
      "text/plain": [
       "0    {'syrup', 'cardamom', 'marjoram', 'apple', 'ci...\n",
       "1    {'vegetable', 'rice', 'mushroom', 'oil', 'pars...\n",
       "2    {'vegetable', 'soy sauce', 'yeast', 'garlic', ...\n",
       "3    {'vegetable', 'soy sauce', 'yeast', 'garlic', ...\n",
       "4    {'oil', 'spice', 'gredients', 'water', 'onion'...\n",
       "Name: INGREDIENTS, dtype: object"
      ]
     },
     "execution_count": 2,
     "metadata": {},
     "output_type": "execute_result"
    }
   ],
   "source": [
    "import pandas as pd\n",
    "#dataset 1 - vegetarian\n",
    "df = pd.read_csv('recipes_veg.csv')\n",
    "saved_veg = df['INGREDIENTS'] \n",
    "#dataset 3 - armed\n",
    "df = pd.read_csv('recipes_armed.csv')\n",
    "saved_armed = df['INGREDIENTS'] \n",
    "#dataset 4 - common\n",
    "df = pd.read_csv('recipes_common.csv')\n",
    "saved_common = df['INGREDIENTS'] \n",
    "\n",
    "frames = [saved_veg, saved_armed, saved_common]\n",
    "#creating one dataframe with the set of ingredients\n",
    "result = pd.concat(frames)\n",
    "result.head()"
   ]
  },
  {
   "cell_type": "code",
   "execution_count": 11,
   "metadata": {},
   "outputs": [],
   "source": [
    "#importing libraries\n",
    "from itertools import permutations\n",
    "from collections import Counter\n",
    "\n",
    "cooccs_surface = Counter()\n",
    "#contextual coocurrence\n",
    "for row in result:\n",
    "    for i,w in enumerate(row):\n",
    "        row = row.replace('}', \"\")\n",
    "        row = row.replace('{', \"\")\n",
    "        for w in row.split(','):\n",
    "            for cw in row.split(','):\n",
    "                if cw != w:\n",
    "                    cooccs_surface[(w, cw)] += 1\n",
    "    "
   ]
  },
  {
   "cell_type": "code",
   "execution_count": 12,
   "metadata": {},
   "outputs": [
    {
     "data": {
      "text/plain": [
       "[((\" 'oil'\", \" 'water'\"), 54419),\n",
       " ((\" 'water'\", \" 'oil'\"), 54419),\n",
       " ((\" 'water'\", \" 'pepper'\"), 42363),\n",
       " ((\" 'pepper'\", \" 'water'\"), 42363),\n",
       " ((\" 'pepper'\", \" 'oil'\"), 39987),\n",
       " ((\" 'oil'\", \" 'pepper'\"), 39987),\n",
       " ((\" 'pepper'\", \" 'onion'\"), 39164),\n",
       " ((\" 'onion'\", \" 'pepper'\"), 39164),\n",
       " ((\" 'water'\", \" 'onion'\"), 38110),\n",
       " ((\" 'onion'\", \" 'water'\"), 38110),\n",
       " ((\" 'water'\", \" 'ice'\"), 37286),\n",
       " ((\" 'ice'\", \" 'water'\"), 37286),\n",
       " ((\" 'oil'\", \" 'onion'\"), 37064),\n",
       " ((\" 'onion'\", \" 'oil'\"), 37064),\n",
       " ((\" 'water'\", \" 'sugar'\"), 35730),\n",
       " ((\" 'sugar'\", \" 'water'\"), 35730),\n",
       " ((\" 'flour'\", \" 'water'\"), 35276),\n",
       " ((\" 'water'\", \" 'flour'\"), 35276),\n",
       " ((\" 'oil'\", \" 'ice'\"), 33192),\n",
       " ((\" 'ice'\", \" 'oil'\"), 33192),\n",
       " ((\" 'onion'\", \" 'ice'\"), 32156),\n",
       " ((\" 'ice'\", \" 'onion'\"), 32156),\n",
       " ((\" 'pepper'\", \" 'ice'\"), 30924),\n",
       " ((\" 'ice'\", \" 'pepper'\"), 30924),\n",
       " ((\" 'water'\", \" 'dehydrated'\"), 29560),\n",
       " ((\" 'dehydrated'\", \" 'water'\"), 29560),\n",
       " ((\" 'onion'\", \" 'dehydrated'\"), 29425),\n",
       " ((\" 'dehydrated'\", \" 'onion'\"), 29425),\n",
       " ((\" 'pepper'\", \" 'dehydrated'\"), 29091),\n",
       " ((\" 'dehydrated'\", \" 'pepper'\"), 29091),\n",
       " ((\" 'rain'\", \" 'water'\"), 29090),\n",
       " ((\" 'water'\", \" 'rain'\"), 29090),\n",
       " ((\" 'shortening'\", \" 'water'\"), 28853),\n",
       " ((\" 'water'\", \" 'shortening'\"), 28853),\n",
       " ((\" 'oil'\", \" 'dehydrated'\"), 27031),\n",
       " ((\" 'dehydrated'\", \" 'oil'\"), 27031),\n",
       " ((\" 'water'\", \" 'tea'\"), 26965),\n",
       " ((\" 'tea'\", \" 'water'\"), 26965),\n",
       " ((\" 'flour'\", \" 'oil'\"), 26491),\n",
       " ((\" 'oil'\", \" 'flour'\"), 26491),\n",
       " ((\" 'oil'\", \" 'sugar'\"), 26488),\n",
       " ((\" 'sugar'\", \" 'oil'\"), 26488),\n",
       " ((\" 'water'\", \" 'cons'\"), 26144),\n",
       " ((\" 'cons'\", \" 'water'\"), 26144),\n",
       " ((\" 'sugar'\", \" 'flour'\"), 25277),\n",
       " ((\" 'flour'\", \" 'sugar'\"), 25277),\n",
       " ((\" 'oil'\", \" 'tea'\"), 24076),\n",
       " ((\" 'tea'\", \" 'oil'\"), 24076),\n",
       " ((\" 'salad'\", \" 'oil'\"), 23616),\n",
       " ((\" 'oil'\", \" 'salad'\"), 23616),\n",
       " ((\" 'oil'\", \" 'cons'\"), 23570),\n",
       " ((\" 'cons'\", \" 'oil'\"), 23570),\n",
       " ((\" 'rain'\", \" 'oil'\"), 23499),\n",
       " ((\" 'oil'\", \" 'rain'\"), 23499),\n",
       " ((\" 'shortening'\", \" 'flour'\"), 23314),\n",
       " ((\" 'flour'\", \" 'shortening'\"), 23314),\n",
       " ((\" 'garlic'\", \" 'onion'\"), 23197),\n",
       " ((\" 'onion'\", \" 'garlic'\"), 23197),\n",
       " ((\" 'garlic'\", \" 'water'\"), 22575),\n",
       " ((\" 'water'\", \" 'garlic'\"), 22575),\n",
       " ((\" 'salad'\", \" 'water'\"), 22456),\n",
       " ((\" 'water'\", \" 'salad'\"), 22456),\n",
       " ((\" 'rain'\", \" 'pepper'\"), 22309),\n",
       " ((\" 'pepper'\", \" 'rain'\"), 22309),\n",
       " ((\" 'water'\", \" 'juice'\"), 22204),\n",
       " ((\" 'juice'\", \" 'water'\"), 22204),\n",
       " ((\" 'garlic'\", \" 'pepper'\"), 22037),\n",
       " ((\" 'pepper'\", \" 'garlic'\"), 22037),\n",
       " ((\" 'garlic'\", \" 'oil'\"), 21915),\n",
       " ((\" 'oil'\", \" 'garlic'\"), 21915),\n",
       " ((\" 'tomato'\", \" 'onion'\"), 21506),\n",
       " ((\" 'onion'\", \" 'tomato'\"), 21506),\n",
       " ((\" 'rain'\", \" 'ice'\"), 21483),\n",
       " ((\" 'ice'\", \" 'rain'\"), 21483),\n",
       " ((\" 'ice'\", \" 'dehydrated'\"), 21439),\n",
       " ((\" 'dehydrated'\", \" 'ice'\"), 21439),\n",
       " ((\" 'shortening'\", \" 'oil'\"), 21267),\n",
       " ((\" 'oil'\", \" 'shortening'\"), 21267),\n",
       " ((\" 'pepper'\", \" 'tea'\"), 20717),\n",
       " ((\" 'tea'\", \" 'pepper'\"), 20717),\n",
       " ((\" 'tomato'\", \" 'pepper'\"), 20712),\n",
       " ((\" 'pepper'\", \" 'tomato'\"), 20712),\n",
       " ((\" 'butter'\", \" 'margarine'\"), 20654),\n",
       " ((\" 'margarine'\", \" 'butter'\"), 20654),\n",
       " ((\" 'salad'\", \" 'pepper'\"), 20620),\n",
       " ((\" 'pepper'\", \" 'salad'\"), 20620),\n",
       " ((\" 'shortening'\", \" 'sugar'\"), 20340),\n",
       " ((\" 'sugar'\", \" 'shortening'\"), 20340),\n",
       " ((\" 'oil'\", \" 'juice'\"), 19772),\n",
       " ((\" 'juice'\", \" 'oil'\"), 19772),\n",
       " ((\" 'tomato'\", \" 'water'\"), 19580),\n",
       " ((\" 'water'\", \" 'tomato'\"), 19580),\n",
       " ((\" 'salad'\", \" 'onion'\"), 19454),\n",
       " ((\" 'onion'\", \" 'salad'\"), 19454),\n",
       " ((\" 'tomato'\", \" 'ice'\"), 19170),\n",
       " ((\" 'ice'\", \" 'tomato'\"), 19170),\n",
       " ((\" 'tomato'\", \" 'oil'\"), 19056),\n",
       " ((\" 'oil'\", \" 'tomato'\"), 19056),\n",
       " ((\" 'rain'\", \" 'onion'\"), 19014),\n",
       " ((\" 'onion'\", \" 'rain'\"), 19014)]"
      ]
     },
     "execution_count": 12,
     "metadata": {},
     "output_type": "execute_result"
    }
   ],
   "source": [
    "cooccs_surface.most_common(100)"
   ]
  },
  {
   "cell_type": "markdown",
   "metadata": {},
   "source": [
    "# Correlation of verb with noun, what are the actions? "
   ]
  },
  {
   "cell_type": "code",
   "execution_count": 2,
   "metadata": {},
   "outputs": [
    {
     "data": {
      "text/plain": [
       "0    [('pierce', 'NOUN'), ('top', 'NOUN'), ('of', '...\n",
       "1    [('in', 'ADP'), ('a', 'DET'), ('one', 'NUM'), ...\n",
       "2    [('broth', 'INGREDIENT'), ('for', 'ADP'), ('bo...\n",
       "3    [('broth', 'INGREDIENT'), ('for', 'ADP'), ('bo...\n",
       "4    [('in', 'ADP'), ('a', 'DET'), ('medium', 'NOUN...\n",
       "Name: METHOD, dtype: object"
      ]
     },
     "execution_count": 2,
     "metadata": {},
     "output_type": "execute_result"
    }
   ],
   "source": [
    "import pandas as pd\n",
    "#dataset 1 - vegetarian\n",
    "df = pd.read_csv('recipes_veg.csv')\n",
    "saved_veg = df['METHOD'] \n",
    "#dataset 3 - armed\n",
    "df = pd.read_csv('recipes_armed.csv')\n",
    "saved_armed = df['METHOD'] \n",
    "#dataset 4 - common\n",
    "df = pd.read_csv('recipes_common.csv')\n",
    "saved_common = df['METHOD'] \n",
    "\n",
    "frames = [saved_veg, saved_armed, saved_common]\n",
    "#creating one dataframe with the methods\n",
    "method = pd.concat(frames)\n",
    "method.head()"
   ]
  },
  {
   "cell_type": "code",
   "execution_count": 40,
   "metadata": {},
   "outputs": [
    {
     "ename": "IndexError",
     "evalue": "list index out of range",
     "output_type": "error",
     "traceback": [
      "\u001b[0;31m---------------------------------------------------------------------------\u001b[0m",
      "\u001b[0;31mIndexError\u001b[0m                                Traceback (most recent call last)",
      "\u001b[0;32m<ipython-input-40-dabe9a7327a6>\u001b[0m in \u001b[0;36m<module>\u001b[0;34m\u001b[0m\n\u001b[1;32m     11\u001b[0m             \u001b[0mspan_range\u001b[0m \u001b[0;34m=\u001b[0m \u001b[0mlist\u001b[0m\u001b[0;34m(\u001b[0m\u001b[0mrange\u001b[0m\u001b[0;34m(\u001b[0m\u001b[0mmax\u001b[0m\u001b[0;34m(\u001b[0m\u001b[0mi\u001b[0m\u001b[0;34m,\u001b[0m \u001b[0;36m0\u001b[0m\u001b[0;34m)\u001b[0m\u001b[0;34m,\u001b[0m \u001b[0mi\u001b[0m\u001b[0;34m)\u001b[0m\u001b[0;34m)\u001b[0m \u001b[0;31m# left side indices (range, then list so we can extend)\u001b[0m\u001b[0;34m\u001b[0m\u001b[0;34m\u001b[0m\u001b[0m\n\u001b[1;32m     12\u001b[0m             \u001b[0mspan_range\u001b[0m\u001b[0;34m.\u001b[0m\u001b[0mextend\u001b[0m\u001b[0;34m(\u001b[0m\u001b[0mrange\u001b[0m\u001b[0;34m(\u001b[0m\u001b[0mi\u001b[0m\u001b[0;34m+\u001b[0m\u001b[0;36m1\u001b[0m\u001b[0;34m,\u001b[0m \u001b[0mmin\u001b[0m\u001b[0;34m(\u001b[0m\u001b[0mi\u001b[0m \u001b[0;34m+\u001b[0m \u001b[0mspansize\u001b[0m \u001b[0;34m+\u001b[0m \u001b[0;36m1\u001b[0m\u001b[0;34m,\u001b[0m \u001b[0mlen\u001b[0m\u001b[0;34m(\u001b[0m\u001b[0mw\u001b[0m\u001b[0;34m)\u001b[0m\u001b[0;34m)\u001b[0m\u001b[0;34m)\u001b[0m\u001b[0;34m)\u001b[0m \u001b[0;31m# extend by right side indices\u001b[0m\u001b[0;34m\u001b[0m\u001b[0;34m\u001b[0m\u001b[0m\n\u001b[0;32m---> 13\u001b[0;31m             \u001b[0;32mfor\u001b[0m \u001b[0mcw\u001b[0m \u001b[0;32min\u001b[0m \u001b[0;34m[\u001b[0m\u001b[0mrow\u001b[0m\u001b[0;34m[\u001b[0m\u001b[0midx\u001b[0m\u001b[0;34m]\u001b[0m \u001b[0;32mfor\u001b[0m \u001b[0midx\u001b[0m \u001b[0;32min\u001b[0m \u001b[0mspan_range\u001b[0m\u001b[0;34m]\u001b[0m\u001b[0;34m:\u001b[0m\u001b[0;34m\u001b[0m\u001b[0;34m\u001b[0m\u001b[0m\n\u001b[0m\u001b[1;32m     14\u001b[0m                 \u001b[0;32mif\u001b[0m \u001b[0;34m'INGREDIENT'\u001b[0m\u001b[0;32min\u001b[0m \u001b[0mcw\u001b[0m\u001b[0;34m:\u001b[0m\u001b[0;34m\u001b[0m\u001b[0;34m\u001b[0m\u001b[0m\n\u001b[1;32m     15\u001b[0m                     \u001b[0mverb_cooccs_surface\u001b[0m\u001b[0;34m[\u001b[0m\u001b[0;34m(\u001b[0m\u001b[0mw\u001b[0m\u001b[0;34m,\u001b[0m \u001b[0mcw\u001b[0m\u001b[0;34m)\u001b[0m\u001b[0;34m]\u001b[0m \u001b[0;34m+=\u001b[0m \u001b[0;36m1\u001b[0m\u001b[0;34m\u001b[0m\u001b[0;34m\u001b[0m\u001b[0m\n",
      "\u001b[0;32m<ipython-input-40-dabe9a7327a6>\u001b[0m in \u001b[0;36m<listcomp>\u001b[0;34m(.0)\u001b[0m\n\u001b[1;32m     11\u001b[0m             \u001b[0mspan_range\u001b[0m \u001b[0;34m=\u001b[0m \u001b[0mlist\u001b[0m\u001b[0;34m(\u001b[0m\u001b[0mrange\u001b[0m\u001b[0;34m(\u001b[0m\u001b[0mmax\u001b[0m\u001b[0;34m(\u001b[0m\u001b[0mi\u001b[0m\u001b[0;34m,\u001b[0m \u001b[0;36m0\u001b[0m\u001b[0;34m)\u001b[0m\u001b[0;34m,\u001b[0m \u001b[0mi\u001b[0m\u001b[0;34m)\u001b[0m\u001b[0;34m)\u001b[0m \u001b[0;31m# left side indices (range, then list so we can extend)\u001b[0m\u001b[0;34m\u001b[0m\u001b[0;34m\u001b[0m\u001b[0m\n\u001b[1;32m     12\u001b[0m             \u001b[0mspan_range\u001b[0m\u001b[0;34m.\u001b[0m\u001b[0mextend\u001b[0m\u001b[0;34m(\u001b[0m\u001b[0mrange\u001b[0m\u001b[0;34m(\u001b[0m\u001b[0mi\u001b[0m\u001b[0;34m+\u001b[0m\u001b[0;36m1\u001b[0m\u001b[0;34m,\u001b[0m \u001b[0mmin\u001b[0m\u001b[0;34m(\u001b[0m\u001b[0mi\u001b[0m \u001b[0;34m+\u001b[0m \u001b[0mspansize\u001b[0m \u001b[0;34m+\u001b[0m \u001b[0;36m1\u001b[0m\u001b[0;34m,\u001b[0m \u001b[0mlen\u001b[0m\u001b[0;34m(\u001b[0m\u001b[0mw\u001b[0m\u001b[0;34m)\u001b[0m\u001b[0;34m)\u001b[0m\u001b[0;34m)\u001b[0m\u001b[0;34m)\u001b[0m \u001b[0;31m# extend by right side indices\u001b[0m\u001b[0;34m\u001b[0m\u001b[0;34m\u001b[0m\u001b[0m\n\u001b[0;32m---> 13\u001b[0;31m             \u001b[0;32mfor\u001b[0m \u001b[0mcw\u001b[0m \u001b[0;32min\u001b[0m \u001b[0;34m[\u001b[0m\u001b[0mrow\u001b[0m\u001b[0;34m[\u001b[0m\u001b[0midx\u001b[0m\u001b[0;34m]\u001b[0m \u001b[0;32mfor\u001b[0m \u001b[0midx\u001b[0m \u001b[0;32min\u001b[0m \u001b[0mspan_range\u001b[0m\u001b[0;34m]\u001b[0m\u001b[0;34m:\u001b[0m\u001b[0;34m\u001b[0m\u001b[0;34m\u001b[0m\u001b[0m\n\u001b[0m\u001b[1;32m     14\u001b[0m                 \u001b[0;32mif\u001b[0m \u001b[0;34m'INGREDIENT'\u001b[0m\u001b[0;32min\u001b[0m \u001b[0mcw\u001b[0m\u001b[0;34m:\u001b[0m\u001b[0;34m\u001b[0m\u001b[0;34m\u001b[0m\u001b[0m\n\u001b[1;32m     15\u001b[0m                     \u001b[0mverb_cooccs_surface\u001b[0m\u001b[0;34m[\u001b[0m\u001b[0;34m(\u001b[0m\u001b[0mw\u001b[0m\u001b[0;34m,\u001b[0m \u001b[0mcw\u001b[0m\u001b[0;34m)\u001b[0m\u001b[0;34m]\u001b[0m \u001b[0;34m+=\u001b[0m \u001b[0;36m1\u001b[0m\u001b[0;34m\u001b[0m\u001b[0;34m\u001b[0m\u001b[0m\n",
      "\u001b[0;31mIndexError\u001b[0m: list index out of range"
     ]
    }
   ],
   "source": [
    "from collections import Counter\n",
    "verb_cooccs_surface = Counter()\n",
    "#\"cut the apple\", boil the broccoli etc. Only look at the right side form the verb.\n",
    "spansize = 5\n",
    "for row in method:\n",
    "    row = row.split(\"),\")\n",
    "    for i,w in enumerate(row):\n",
    "        w = w.replace('(', \"\")\n",
    "        w = w.replace('[', \"\")\n",
    "        if \"VERB\" in w:\n",
    "            span_range = list(range(max(i, 0), i)) # left side indices (range, then list so we can extend)\n",
    "            span_range.extend(range(i+1, min(i + spansize + 1, len(w)))) # extend by right side indices\n",
    "            for cw in [row[idx] for idx in span_range]:\n",
    "                if 'INGREDIENT'in cw:\n",
    "                    verb_cooccs_surface[(w, cw)] += 1\n",
    "                \n",
    "                "
   ]
  },
  {
   "cell_type": "code",
   "execution_count": 41,
   "metadata": {},
   "outputs": [
    {
     "data": {
      "text/plain": [
       "[((\" 'run', 'VERB'\", \" ('water', 'INGREDIENT'\"), 14),\n",
       " ((\" 'boil', 'VERB'\", \" ('water', 'INGREDIENT'\"), 13),\n",
       " ((\" 'melt', 'VERB'\", \" ('oliveoil', 'INGREDIENT'\"), 9),\n",
       " ((\" 'shorten', 'VERB'\", \" ('oliveoil', 'INGREDIENT'\"), 9),\n",
       " ((\" 'shorten', 'VERB'\", \" ('salad', 'INGREDIENT'\"), 7),\n",
       " ((\" 'shorten', 'VERB'\", \" ('oil', 'INGREDIENT'\"), 7),\n",
       " ((\" 'dice', 'VERB'\", \" ('onion', 'INGREDIENT'\"), 6),\n",
       " ((\"'prepare', 'VERB'\", \" ('vegetable', 'INGREDIENT'\"), 6),\n",
       " ((\" 'melt', 'VERB'\", \" ('salad', 'INGREDIENT'\"), 6),\n",
       " ((\" 'melt', 'VERB'\", \" ('oil', 'INGREDIENT'\"), 6),\n",
       " ((\" 'dice', 'VERB'\", \" ('celery', 'INGREDIENT'\"), 5),\n",
       " ((\" 'cooking', 'VERB'\", \" ('vegetable', 'INGREDIENT'\"), 5),\n",
       " ((\" 'salt', 'VERB'\", \" ('water', 'INGREDIENT'\"), 5),\n",
       " ((\"'trim', 'VERB'\", \" ('vegetable', 'INGREDIENT'\"), 5),\n",
       " ((\" 'remove', 'VERB'\", \" ('fat', 'INGREDIENT'\"), 5),\n",
       " ((\" 'list', 'VERB'\", \" ('egg', 'INGREDIENT'\"), 4),\n",
       " ((\"'bring', 'VERB'\", \" ('water', 'INGREDIENT'\"), 3),\n",
       " ((\" 'dice', 'VERB'\", \" ('carrot', 'INGREDIENT'\"), 3),\n",
       " ((\" 'shorten', 'VERB'\", \" ('sugar', 'INGREDIENT'\"), 3),\n",
       " ((\" 'be', 'VERB'\", \" ('egg', 'INGREDIENT'\"), 3),\n",
       " ((\" 'melt', 'VERB'\", \" ('butter', 'INGREDIENT'\"), 3),\n",
       " ((\" 'melt', 'VERB'\", \" ('margarine', 'INGREDIENT'\"), 3),\n",
       " ((\"'add', 'VERB'\", \" ('carrot', 'INGREDIENT'\"), 3),\n",
       " ((\"'add', 'VERB'\", \" ('macaroni', 'INGREDIENT'\"), 3),\n",
       " ((\" 'grate', 'VERB'\", \" ('lemon', 'INGREDIENT'\"), 2),\n",
       " ((\" 'cover', 'VERB'\", \" ('water', 'INGREDIENT'\"), 2),\n",
       " ((\" 'use', 'VERB'\", \" ('seaweed', 'INGREDIENT'\"), 2),\n",
       " ((\" 'roll', 'VERB'\", \" ('oat', 'INGREDIENT'\"), 2),\n",
       " ((\" 'blend', 'VERB'\", \" ('soymilk', 'INGREDIENT'\"), 2),\n",
       " ((\" 'blend', 'VERB'\", \" ('lemon', 'INGREDIENT'\"), 2),\n",
       " ((\" 'blend', 'VERB'\", \" ('juice', 'INGREDIENT'\"), 2),\n",
       " ((\" 'blend', 'VERB'\", \" ('soysauce', 'INGREDIENT'\"), 2),\n",
       " ((\" 'boil', 'VERB'\", \" ('potato', 'INGREDIENT'\"), 2),\n",
       " ((\" 'candy', 'VERB'\", \" ('juice', 'INGREDIENT'\"), 2),\n",
       " ((\"'blend', 'VERB'\", \" ('sugar', 'INGREDIENT'\"), 2),\n",
       " ((\" 'dice', 'VERB'\", \" ('water', 'INGREDIENT'\"), 2),\n",
       " ((\" 'add', 'VERB'\", \" ('egg', 'INGREDIENT'\"), 2),\n",
       " ((\" 'add', 'VERB'\", \" ('onion', 'INGREDIENT'\"), 2),\n",
       " ((\" 'shorten', 'VERB'\", \" ('water', 'INGREDIENT'\"), 2),\n",
       " ((\"'trim', 'VERB'\", \" ('salad', 'INGREDIENT'\"), 2),\n",
       " ((\"'trim', 'VERB'\", \" ('cabbage', 'INGREDIENT'\"), 2),\n",
       " ((\"'blend', 'VERB'\", \" ('salad', 'INGREDIENT'\"), 2),\n",
       " ((\"'blend', 'VERB'\", \" ('oil', 'INGREDIENT'\"), 2),\n",
       " ((\" 'shorten', 'VERB'\", \" ('flour', 'INGREDIENT'\"), 2),\n",
       " ((\" 'melt', 'VERB'\", \" ('gravy', 'INGREDIENT'\"), 2),\n",
       " ((\" 'shorten', 'VERB'\", \" ('gravy', 'INGREDIENT'\"), 2),\n",
       " ((\" 'add', 'VERB'\", \" ('rice', 'INGREDIENT'\"), 1),\n",
       " ((\" 'grate', 'VERB'\", \" ('juice', 'INGREDIENT'\"), 1),\n",
       " ((\" 'grate', 'VERB'\", \" ('vanilla', 'INGREDIENT'\"), 1),\n",
       " ((\" 'cover', 'VERB'\", \" ('carrot', 'INGREDIENT'\"), 1),\n",
       " ((\" 'blend', 'VERB'\", \" ('limejuice', 'INGREDIENT'\"), 1),\n",
       " ((\" 'blend', 'VERB'\", \" ('yeast', 'INGREDIENT'\"), 1),\n",
       " ((\" 'slice', 'VERB'\", \" ('mushroom', 'INGREDIENT'\"), 1),\n",
       " ((\" 'slice', 'VERB'\", \" ('onion', 'INGREDIENT'\"), 1),\n",
       " ((\" 'slice', 'VERB'\", \" ('carrot', 'INGREDIENT'\"), 1),\n",
       " ((\"'put', 'VERB'\", \" ('water', 'INGREDIENT'\"), 1),\n",
       " ((\"'put', 'VERB'\", \" ('almond', 'INGREDIENT'\"), 1),\n",
       " ((\" 'shell', 'VERB'\", \" ('almond', 'INGREDIENT'\"), 1),\n",
       " ((\" 'shell', 'VERB'\", \" ('syrup', 'INGREDIENT'\"), 1),\n",
       " ((\" 'roll', 'VERB'\", \" ('raisin', 'INGREDIENT'\"), 1),\n",
       " ((\" 'roll', 'VERB'\", \" ('cinnamon', 'INGREDIENT'\"), 1),\n",
       " ((\" 'remove', 'VERB'\", \" ('basil', 'INGREDIENT'\"), 1),\n",
       " ((\" 'mince', 'VERB'\", \" ('garlic', 'INGREDIENT'\"), 1),\n",
       " ((\" 'remove', 'VERB'\", \" ('pepper', 'INGREDIENT'\"), 1),\n",
       " ((\"'bring', 'VERB'\", \" ('soysauce', 'INGREDIENT'\"), 1),\n",
       " ((\"'bring', 'VERB'\", \" ('vegetable', 'INGREDIENT'\"), 1),\n",
       " ((\"'bring', 'VERB'\", \" ('mirin', 'INGREDIENT'\"), 1),\n",
       " ((\" 'slice', 'VERB'\", \" ('ginger', 'INGREDIENT'\"), 1),\n",
       " ((\" 'slice', 'VERB'\", \" ('root', 'INGREDIENT'\"), 1),\n",
       " ((\" 'slice', 'VERB'\", \" ('garlic', 'INGREDIENT'\"), 1),\n",
       " ((\" 'dice', 'VERB'\", \" ('pepper', 'INGREDIENT'\"), 1),\n",
       " ((\" 'grate', 'VERB'\", \" ('carrot', 'INGREDIENT'\"), 1),\n",
       " ((\" 'grate', 'VERB'\", \" ('tahini', 'INGREDIENT'\"), 1),\n",
       " ((\" 'drain', 'VERB'\", \" ('liquid', 'INGREDIENT'\"), 1),\n",
       " ((\" 'candy', 'VERB'\", \" ('apple', 'INGREDIENT'\"), 1),\n",
       " ((\" 'candy', 'VERB'\", \" ('lemon', 'INGREDIENT'\"), 1),\n",
       " ((\" 'core', 'VERB'\", \" ('apple', 'INGREDIENT'\"), 1),\n",
       " ((\"'open', 'VERB'\", \" ('bacon', 'INGREDIENT'\"), 1),\n",
       " ((\" 'can', 'VERB'\", \" ('bacon', 'INGREDIENT'\"), 1),\n",
       " ((\" 'soften', 'VERB'\", \" ('cream', 'INGREDIENT'\"), 1),\n",
       " ((\" 'soften', 'VERB'\", \" ('cheese', 'INGREDIENT'\"), 1),\n",
       " ((\" 'add', 'VERB'\", \" ('garlic', 'INGREDIENT'\"), 1),\n",
       " ((\" 'crush', 'VERB'\", \" ('basil', 'INGREDIENT'\"), 1),\n",
       " ((\" 'blend', 'VERB'\", \" ('soup', 'INGREDIENT'\"), 1),\n",
       " ((\" 'blend', 'VERB'\", \" ('water', 'INGREDIENT'\"), 1),\n",
       " ((\" 'do', 'VERB'\", \" ('fat', 'INGREDIENT'\"), 1),\n",
       " ((\" 'add', 'VERB'\", \" ('water', 'INGREDIENT'\"), 1),\n",
       " ((\" 'dice', 'VERB'\", \" ('garlic', 'INGREDIENT'\"), 1),\n",
       " ((\" 'let', 'VERB'\", \" ('water', 'INGREDIENT'\"), 1),\n",
       " ((\" 'crowd', 'VERB'\", \" ('pepper', 'INGREDIENT'\"), 1),\n",
       " ((\" 'roast', 'VERB'\", \" ('juice', 'INGREDIENT'\"), 1),\n",
       " ((\"'blend', 'VERB'\", \" ('flour', 'INGREDIENT'\"), 1),\n",
       " ((\"'blend', 'VERB'\", \" ('cornmeal', 'INGREDIENT'\"), 1),\n",
       " ((\" 'trim', 'VERB'\", \" ('crust', 'INGREDIENT'\"), 1),\n",
       " ((\" 'add', 'VERB'\", \" ('vinegar', 'INGREDIENT'\"), 1),\n",
       " ((\" 'add', 'VERB'\", \" ('broccoli', 'INGREDIENT'\"), 1),\n",
       " ((\" 'add', 'VERB'\", \" ('marjoram', 'INGREDIENT'\"), 1),\n",
       " ((\" 'add', 'VERB'\", \" ('basil', 'INGREDIENT'\"), 1),\n",
       " ((\" 'shred', 'VERB'\", \" ('cabbage', 'INGREDIENT'\"), 1),\n",
       " ((\" 'add', 'VERB'\", \" ('cabbage', 'INGREDIENT'\"), 1)]"
      ]
     },
     "execution_count": 41,
     "metadata": {},
     "output_type": "execute_result"
    }
   ],
   "source": [
    "verb_cooccs_surface.most_common(100)"
   ]
  },
  {
   "cell_type": "code",
   "execution_count": null,
   "metadata": {},
   "outputs": [],
   "source": []
  }
 ],
 "metadata": {
  "kernelspec": {
   "display_name": "Python 3",
   "language": "python",
   "name": "python3"
  },
  "language_info": {
   "codemirror_mode": {
    "name": "ipython",
    "version": 3
   },
   "file_extension": ".py",
   "mimetype": "text/x-python",
   "name": "python",
   "nbconvert_exporter": "python",
   "pygments_lexer": "ipython3",
   "version": "3.8.5"
  }
 },
 "nbformat": 4,
 "nbformat_minor": 4
}
