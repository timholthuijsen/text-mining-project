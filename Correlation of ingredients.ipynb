{
 "cells": [
  {
   "cell_type": "markdown",
   "metadata": {},
   "source": [
    "# Correlation of ingredients"
   ]
  },
  {
   "cell_type": "markdown",
   "metadata": {},
   "source": [
    "Objective: find the correlation between ingredients. Which occur together most often, and which do not?\n",
    "- Iterate throught the ingredient column in the recipe CSV and create a contextual co-occurence frequency table of ingredients"
   ]
  },
  {
   "cell_type": "code",
   "execution_count": 1,
   "metadata": {},
   "outputs": [
    {
     "data": {
      "text/plain": [
       "0    {'parsley', 'salt', 'pepper', 'tea', 'mushroom...\n",
       "1    {'paprika', 'parsley', 'water', 'rice', 'basil...\n",
       "2    {'fat', 'vegetable', 'apple', 'flour', 'broth'...\n",
       "3    {'fat', 'vegetable', 'apple', 'flour', 'broth'...\n",
       "4    {'water', 'redients', 'corn', 'oil', 'gravy', ...\n",
       "Name: INGREDIENTS, dtype: object"
      ]
     },
     "execution_count": 1,
     "metadata": {},
     "output_type": "execute_result"
    }
   ],
   "source": [
    "import pandas as pd\n",
    "#dataset 1 - vegetarian\n",
    "df = pd.read_csv('recipes_veg.csv')\n",
    "saved_veg = df['INGREDIENTS'] \n",
    "#dataset 3 - armed\n",
    "df = pd.read_csv('recipes_armed.csv')\n",
    "saved_armed = df['INGREDIENTS'] \n",
    "#dataset 4 - common\n",
    "df = pd.read_csv('recipes_common.csv')\n",
    "saved_common = df['INGREDIENTS'] \n",
    "\n",
    "frames = [saved_veg, saved_armed, saved_common]\n",
    "#creating one dataframe with the set of ingredients\n",
    "result = pd.concat(frames)\n",
    "result.head()"
   ]
  },
  {
   "cell_type": "code",
   "execution_count": 2,
   "metadata": {},
   "outputs": [],
   "source": [
    "#importing libraries\n",
    "from itertools import permutations\n",
    "from collections import Counter\n",
    "\n",
    "cooccs_surface = Counter()\n",
    "#contextual coocurrence\n",
    "for row in result:\n",
    "    for i,w in enumerate(row):\n",
    "        row = row.replace('}', \"\")\n",
    "        row = row.replace('{', \"\")\n",
    "        for w in row.split(','):\n",
    "            for cw in row.split(','):\n",
    "                if cw != w:\n",
    "                    cooccs_surface[(w, cw)] += 1\n",
    "    "
   ]
  },
  {
   "cell_type": "code",
   "execution_count": 12,
   "metadata": {},
   "outputs": [
    {
     "data": {
      "text/plain": [
       "[((\" 'oil'\", \" 'water'\"), 54419),\n",
       " ((\" 'water'\", \" 'oil'\"), 54419),\n",
       " ((\" 'water'\", \" 'pepper'\"), 42363),\n",
       " ((\" 'pepper'\", \" 'water'\"), 42363),\n",
       " ((\" 'pepper'\", \" 'oil'\"), 39987),\n",
       " ((\" 'oil'\", \" 'pepper'\"), 39987),\n",
       " ((\" 'pepper'\", \" 'onion'\"), 39164),\n",
       " ((\" 'onion'\", \" 'pepper'\"), 39164),\n",
       " ((\" 'water'\", \" 'onion'\"), 38110),\n",
       " ((\" 'onion'\", \" 'water'\"), 38110),\n",
       " ((\" 'water'\", \" 'ice'\"), 37286),\n",
       " ((\" 'ice'\", \" 'water'\"), 37286),\n",
       " ((\" 'oil'\", \" 'onion'\"), 37064),\n",
       " ((\" 'onion'\", \" 'oil'\"), 37064),\n",
       " ((\" 'water'\", \" 'sugar'\"), 35730),\n",
       " ((\" 'sugar'\", \" 'water'\"), 35730),\n",
       " ((\" 'flour'\", \" 'water'\"), 35276),\n",
       " ((\" 'water'\", \" 'flour'\"), 35276),\n",
       " ((\" 'oil'\", \" 'ice'\"), 33192),\n",
       " ((\" 'ice'\", \" 'oil'\"), 33192),\n",
       " ((\" 'onion'\", \" 'ice'\"), 32156),\n",
       " ((\" 'ice'\", \" 'onion'\"), 32156),\n",
       " ((\" 'pepper'\", \" 'ice'\"), 30924),\n",
       " ((\" 'ice'\", \" 'pepper'\"), 30924),\n",
       " ((\" 'water'\", \" 'dehydrated'\"), 29560),\n",
       " ((\" 'dehydrated'\", \" 'water'\"), 29560),\n",
       " ((\" 'onion'\", \" 'dehydrated'\"), 29425),\n",
       " ((\" 'dehydrated'\", \" 'onion'\"), 29425),\n",
       " ((\" 'pepper'\", \" 'dehydrated'\"), 29091),\n",
       " ((\" 'dehydrated'\", \" 'pepper'\"), 29091),\n",
       " ((\" 'rain'\", \" 'water'\"), 29090),\n",
       " ((\" 'water'\", \" 'rain'\"), 29090),\n",
       " ((\" 'shortening'\", \" 'water'\"), 28853),\n",
       " ((\" 'water'\", \" 'shortening'\"), 28853),\n",
       " ((\" 'oil'\", \" 'dehydrated'\"), 27031),\n",
       " ((\" 'dehydrated'\", \" 'oil'\"), 27031),\n",
       " ((\" 'water'\", \" 'tea'\"), 26965),\n",
       " ((\" 'tea'\", \" 'water'\"), 26965),\n",
       " ((\" 'flour'\", \" 'oil'\"), 26491),\n",
       " ((\" 'oil'\", \" 'flour'\"), 26491),\n",
       " ((\" 'oil'\", \" 'sugar'\"), 26488),\n",
       " ((\" 'sugar'\", \" 'oil'\"), 26488),\n",
       " ((\" 'water'\", \" 'cons'\"), 26144),\n",
       " ((\" 'cons'\", \" 'water'\"), 26144),\n",
       " ((\" 'sugar'\", \" 'flour'\"), 25277),\n",
       " ((\" 'flour'\", \" 'sugar'\"), 25277),\n",
       " ((\" 'oil'\", \" 'tea'\"), 24076),\n",
       " ((\" 'tea'\", \" 'oil'\"), 24076),\n",
       " ((\" 'salad'\", \" 'oil'\"), 23616),\n",
       " ((\" 'oil'\", \" 'salad'\"), 23616),\n",
       " ((\" 'oil'\", \" 'cons'\"), 23570),\n",
       " ((\" 'cons'\", \" 'oil'\"), 23570),\n",
       " ((\" 'rain'\", \" 'oil'\"), 23499),\n",
       " ((\" 'oil'\", \" 'rain'\"), 23499),\n",
       " ((\" 'shortening'\", \" 'flour'\"), 23314),\n",
       " ((\" 'flour'\", \" 'shortening'\"), 23314),\n",
       " ((\" 'garlic'\", \" 'onion'\"), 23197),\n",
       " ((\" 'onion'\", \" 'garlic'\"), 23197),\n",
       " ((\" 'garlic'\", \" 'water'\"), 22575),\n",
       " ((\" 'water'\", \" 'garlic'\"), 22575),\n",
       " ((\" 'salad'\", \" 'water'\"), 22456),\n",
       " ((\" 'water'\", \" 'salad'\"), 22456),\n",
       " ((\" 'rain'\", \" 'pepper'\"), 22309),\n",
       " ((\" 'pepper'\", \" 'rain'\"), 22309),\n",
       " ((\" 'water'\", \" 'juice'\"), 22204),\n",
       " ((\" 'juice'\", \" 'water'\"), 22204),\n",
       " ((\" 'garlic'\", \" 'pepper'\"), 22037),\n",
       " ((\" 'pepper'\", \" 'garlic'\"), 22037),\n",
       " ((\" 'garlic'\", \" 'oil'\"), 21915),\n",
       " ((\" 'oil'\", \" 'garlic'\"), 21915),\n",
       " ((\" 'tomato'\", \" 'onion'\"), 21506),\n",
       " ((\" 'onion'\", \" 'tomato'\"), 21506),\n",
       " ((\" 'rain'\", \" 'ice'\"), 21483),\n",
       " ((\" 'ice'\", \" 'rain'\"), 21483),\n",
       " ((\" 'ice'\", \" 'dehydrated'\"), 21439),\n",
       " ((\" 'dehydrated'\", \" 'ice'\"), 21439),\n",
       " ((\" 'shortening'\", \" 'oil'\"), 21267),\n",
       " ((\" 'oil'\", \" 'shortening'\"), 21267),\n",
       " ((\" 'pepper'\", \" 'tea'\"), 20717),\n",
       " ((\" 'tea'\", \" 'pepper'\"), 20717),\n",
       " ((\" 'tomato'\", \" 'pepper'\"), 20712),\n",
       " ((\" 'pepper'\", \" 'tomato'\"), 20712),\n",
       " ((\" 'butter'\", \" 'margarine'\"), 20654),\n",
       " ((\" 'margarine'\", \" 'butter'\"), 20654),\n",
       " ((\" 'salad'\", \" 'pepper'\"), 20620),\n",
       " ((\" 'pepper'\", \" 'salad'\"), 20620),\n",
       " ((\" 'shortening'\", \" 'sugar'\"), 20340),\n",
       " ((\" 'sugar'\", \" 'shortening'\"), 20340),\n",
       " ((\" 'oil'\", \" 'juice'\"), 19772),\n",
       " ((\" 'juice'\", \" 'oil'\"), 19772),\n",
       " ((\" 'tomato'\", \" 'water'\"), 19580),\n",
       " ((\" 'water'\", \" 'tomato'\"), 19580),\n",
       " ((\" 'salad'\", \" 'onion'\"), 19454),\n",
       " ((\" 'onion'\", \" 'salad'\"), 19454),\n",
       " ((\" 'tomato'\", \" 'ice'\"), 19170),\n",
       " ((\" 'ice'\", \" 'tomato'\"), 19170),\n",
       " ((\" 'tomato'\", \" 'oil'\"), 19056),\n",
       " ((\" 'oil'\", \" 'tomato'\"), 19056),\n",
       " ((\" 'rain'\", \" 'onion'\"), 19014),\n",
       " ((\" 'onion'\", \" 'rain'\"), 19014)]"
      ]
     },
     "execution_count": 12,
     "metadata": {},
     "output_type": "execute_result"
    }
   ],
   "source": [
    "cooccs_surface.most_common(100)"
   ]
  },
  {
   "cell_type": "markdown",
   "metadata": {},
   "source": [
    "# Correlation of verb with noun, what are the actions? "
   ]
  },
  {
   "cell_type": "code",
   "execution_count": 3,
   "metadata": {},
   "outputs": [
    {
     "data": {
      "text/plain": [
       "0    [('Pierce', 'NOUN'), ('top', 'NOUN'), ('of', '...\n",
       "1    [('In', 'ADP'), ('a', 'DET'), ('one', 'NUM'), ...\n",
       "2    [('Broth', 'DET'), ('for', 'ADP'), ('Boiling',...\n",
       "3    [('Broth', 'DET'), ('for', 'ADP'), ('Boiling',...\n",
       "4    [('In', 'ADP'), ('a', 'DET'), ('medium', 'NOUN...\n",
       "Name: METHOD, dtype: object"
      ]
     },
     "execution_count": 3,
     "metadata": {},
     "output_type": "execute_result"
    }
   ],
   "source": [
    "import pandas as pd\n",
    "#dataset 1 - vegetarian\n",
    "df = pd.read_csv('recipes_veg.csv')\n",
    "saved_veg = df['METHOD'] \n",
    "#dataset 3 - armed\n",
    "df = pd.read_csv('recipes_armed.csv')\n",
    "saved_armed = df['METHOD'] \n",
    "#dataset 4 - common\n",
    "df = pd.read_csv('recipes_common.csv')\n",
    "saved_common = df['METHOD'] \n",
    "\n",
    "frames = [saved_veg, saved_armed, saved_common]\n",
    "#creating one dataframe with the methods\n",
    "method = pd.concat(frames)\n",
    "method.head()"
   ]
  },
  {
   "cell_type": "code",
   "execution_count": 5,
   "metadata": {},
   "outputs": [
    {
     "ename": "IndexError",
     "evalue": "list index out of range",
     "output_type": "error",
     "traceback": [
      "\u001b[1;31m---------------------------------------------------------------------------\u001b[0m",
      "\u001b[1;31mIndexError\u001b[0m                                Traceback (most recent call last)",
      "\u001b[1;32m<ipython-input-5-16b0f85a428b>\u001b[0m in \u001b[0;36m<module>\u001b[1;34m\u001b[0m\n\u001b[0;32m     11\u001b[0m             \u001b[0mspan_range\u001b[0m \u001b[1;33m=\u001b[0m \u001b[0mlist\u001b[0m\u001b[1;33m(\u001b[0m\u001b[0mrange\u001b[0m\u001b[1;33m(\u001b[0m\u001b[0mmax\u001b[0m\u001b[1;33m(\u001b[0m\u001b[0mi\u001b[0m \u001b[1;33m-\u001b[0m \u001b[0mspansize\u001b[0m\u001b[1;33m,\u001b[0m \u001b[1;36m0\u001b[0m\u001b[1;33m)\u001b[0m\u001b[1;33m,\u001b[0m \u001b[0mi\u001b[0m\u001b[1;33m)\u001b[0m\u001b[1;33m)\u001b[0m \u001b[1;31m# left side indices (range, then list so we can extend)\u001b[0m\u001b[1;33m\u001b[0m\u001b[1;33m\u001b[0m\u001b[0m\n\u001b[0;32m     12\u001b[0m             \u001b[0mspan_range\u001b[0m\u001b[1;33m.\u001b[0m\u001b[0mextend\u001b[0m\u001b[1;33m(\u001b[0m\u001b[0mrange\u001b[0m\u001b[1;33m(\u001b[0m\u001b[0mi\u001b[0m \u001b[1;33m+\u001b[0m \u001b[1;36m1\u001b[0m\u001b[1;33m,\u001b[0m \u001b[0mmin\u001b[0m\u001b[1;33m(\u001b[0m\u001b[0mi\u001b[0m \u001b[1;33m+\u001b[0m \u001b[0mspansize\u001b[0m \u001b[1;33m+\u001b[0m \u001b[1;36m1\u001b[0m\u001b[1;33m,\u001b[0m \u001b[0mlen\u001b[0m\u001b[1;33m(\u001b[0m\u001b[0mw\u001b[0m\u001b[1;33m)\u001b[0m\u001b[1;33m)\u001b[0m\u001b[1;33m)\u001b[0m\u001b[1;33m)\u001b[0m \u001b[1;31m# extend by right side indices\u001b[0m\u001b[1;33m\u001b[0m\u001b[1;33m\u001b[0m\u001b[0m\n\u001b[1;32m---> 13\u001b[1;33m             \u001b[1;32mfor\u001b[0m \u001b[0mcw\u001b[0m \u001b[1;32min\u001b[0m \u001b[1;33m[\u001b[0m\u001b[0mrow\u001b[0m\u001b[1;33m[\u001b[0m\u001b[0midx\u001b[0m\u001b[1;33m]\u001b[0m \u001b[1;32mfor\u001b[0m \u001b[0midx\u001b[0m \u001b[1;32min\u001b[0m \u001b[0mspan_range\u001b[0m\u001b[1;33m]\u001b[0m\u001b[1;33m:\u001b[0m\u001b[1;33m\u001b[0m\u001b[1;33m\u001b[0m\u001b[0m\n\u001b[0m\u001b[0;32m     14\u001b[0m                 \u001b[1;32mif\u001b[0m \u001b[1;34m'INGREDIENT'\u001b[0m\u001b[1;32min\u001b[0m \u001b[0mcw\u001b[0m\u001b[1;33m:\u001b[0m\u001b[1;33m\u001b[0m\u001b[1;33m\u001b[0m\u001b[0m\n\u001b[0;32m     15\u001b[0m                     \u001b[0mverb_cooccs_surface\u001b[0m\u001b[1;33m[\u001b[0m\u001b[1;33m(\u001b[0m\u001b[0mw\u001b[0m\u001b[1;33m,\u001b[0m \u001b[0mcw\u001b[0m\u001b[1;33m)\u001b[0m\u001b[1;33m]\u001b[0m \u001b[1;33m+=\u001b[0m \u001b[1;36m1\u001b[0m\u001b[1;33m\u001b[0m\u001b[1;33m\u001b[0m\u001b[0m\n",
      "\u001b[1;32m<ipython-input-5-16b0f85a428b>\u001b[0m in \u001b[0;36m<listcomp>\u001b[1;34m(.0)\u001b[0m\n\u001b[0;32m     11\u001b[0m             \u001b[0mspan_range\u001b[0m \u001b[1;33m=\u001b[0m \u001b[0mlist\u001b[0m\u001b[1;33m(\u001b[0m\u001b[0mrange\u001b[0m\u001b[1;33m(\u001b[0m\u001b[0mmax\u001b[0m\u001b[1;33m(\u001b[0m\u001b[0mi\u001b[0m \u001b[1;33m-\u001b[0m \u001b[0mspansize\u001b[0m\u001b[1;33m,\u001b[0m \u001b[1;36m0\u001b[0m\u001b[1;33m)\u001b[0m\u001b[1;33m,\u001b[0m \u001b[0mi\u001b[0m\u001b[1;33m)\u001b[0m\u001b[1;33m)\u001b[0m \u001b[1;31m# left side indices (range, then list so we can extend)\u001b[0m\u001b[1;33m\u001b[0m\u001b[1;33m\u001b[0m\u001b[0m\n\u001b[0;32m     12\u001b[0m             \u001b[0mspan_range\u001b[0m\u001b[1;33m.\u001b[0m\u001b[0mextend\u001b[0m\u001b[1;33m(\u001b[0m\u001b[0mrange\u001b[0m\u001b[1;33m(\u001b[0m\u001b[0mi\u001b[0m \u001b[1;33m+\u001b[0m \u001b[1;36m1\u001b[0m\u001b[1;33m,\u001b[0m \u001b[0mmin\u001b[0m\u001b[1;33m(\u001b[0m\u001b[0mi\u001b[0m \u001b[1;33m+\u001b[0m \u001b[0mspansize\u001b[0m \u001b[1;33m+\u001b[0m \u001b[1;36m1\u001b[0m\u001b[1;33m,\u001b[0m \u001b[0mlen\u001b[0m\u001b[1;33m(\u001b[0m\u001b[0mw\u001b[0m\u001b[1;33m)\u001b[0m\u001b[1;33m)\u001b[0m\u001b[1;33m)\u001b[0m\u001b[1;33m)\u001b[0m \u001b[1;31m# extend by right side indices\u001b[0m\u001b[1;33m\u001b[0m\u001b[1;33m\u001b[0m\u001b[0m\n\u001b[1;32m---> 13\u001b[1;33m             \u001b[1;32mfor\u001b[0m \u001b[0mcw\u001b[0m \u001b[1;32min\u001b[0m \u001b[1;33m[\u001b[0m\u001b[0mrow\u001b[0m\u001b[1;33m[\u001b[0m\u001b[0midx\u001b[0m\u001b[1;33m]\u001b[0m \u001b[1;32mfor\u001b[0m \u001b[0midx\u001b[0m \u001b[1;32min\u001b[0m \u001b[0mspan_range\u001b[0m\u001b[1;33m]\u001b[0m\u001b[1;33m:\u001b[0m\u001b[1;33m\u001b[0m\u001b[1;33m\u001b[0m\u001b[0m\n\u001b[0m\u001b[0;32m     14\u001b[0m                 \u001b[1;32mif\u001b[0m \u001b[1;34m'INGREDIENT'\u001b[0m\u001b[1;32min\u001b[0m \u001b[0mcw\u001b[0m\u001b[1;33m:\u001b[0m\u001b[1;33m\u001b[0m\u001b[1;33m\u001b[0m\u001b[0m\n\u001b[0;32m     15\u001b[0m                     \u001b[0mverb_cooccs_surface\u001b[0m\u001b[1;33m[\u001b[0m\u001b[1;33m(\u001b[0m\u001b[0mw\u001b[0m\u001b[1;33m,\u001b[0m \u001b[0mcw\u001b[0m\u001b[1;33m)\u001b[0m\u001b[1;33m]\u001b[0m \u001b[1;33m+=\u001b[0m \u001b[1;36m1\u001b[0m\u001b[1;33m\u001b[0m\u001b[1;33m\u001b[0m\u001b[0m\n",
      "\u001b[1;31mIndexError\u001b[0m: list index out of range"
     ]
    }
   ],
   "source": [
    "from collections import Counter\n",
    "verb_cooccs_surface = Counter()\n",
    "#\"cut the apple\", boil the broccoli etc. Only look at the right side form the verb.\n",
    "spansize = 5\n",
    "for row in method:\n",
    "    row = row.split(\"),\")\n",
    "    for i,w in enumerate(row):\n",
    "        w = w.replace('(', \"\")\n",
    "        w = w.replace('[', \"\")\n",
    "        if \"VERB\" in w:\n",
    "            span_range = list(range(max(i - spansize, 0), i)) # left side indices (range, then list so we can extend)\n",
    "            span_range.extend(range(i + 1, min(i + spansize + 1, len(w)))) # extend by right side indices\n",
    "            for cw in [row[idx] for idx in span_range]:\n",
    "                if 'INGREDIENT'in cw:\n",
    "                    verb_cooccs_surface[(w, cw)] += 1\n",
    "                \n",
    "                "
   ]
  },
  {
   "cell_type": "code",
   "execution_count": 6,
   "metadata": {},
   "outputs": [
    {
     "data": {
      "text/plain": [
       "[((\" 'may', 'VERB'\", \" ('dehydrated', 'INGREDIENT'\"), 66),\n",
       " ((\" 'be', 'VERB'\", \" ('dehydrated', 'INGREDIENT'\"), 65),\n",
       " ((\" 'used', 'VERB'\", \" ('dehydrated', 'INGREDIENT'\"), 63),\n",
       " ((\" 'greased', 'VERB'\", \" ('batter', 'INGREDIENT'\"), 39),\n",
       " ((\" 'melted', 'VERB'\", \" ('salad', 'INGREDIENT'\"), 34),\n",
       " ((\" 'melted', 'VERB'\", \" ('oil', 'INGREDIENT'\"), 33),\n",
       " ((\" 'Add', 'VERB'\", \" ('water', 'INGREDIENT'\"), 31),\n",
       " ((\" 'may', 'VERB'\", \" ('garlic', 'INGREDIENT'\"), 31),\n",
       " ((\" 'be', 'VERB'\", \" ('garlic', 'INGREDIENT'\"), 31),\n",
       " ((\" 'add', 'VERB'\", \" ('water', 'INGREDIENT'\"), 30),\n",
       " ((\" 'used', 'VERB'\", \" ('garlic', 'INGREDIENT'\"), 30),\n",
       " ((\" 'boiling', 'VERB'\", \" ('water', 'INGREDIENT'\"), 23),\n",
       " ((\" 'minced', 'VERB'\", \" ('onion', 'INGREDIENT'\"), 22),\n",
       " ((\" 'floured', 'VERB'\", \" ('batter', 'INGREDIENT'\"), 22),\n",
       " ((\" 'used', 'VERB'\", \" ('water', 'INGREDIENT'\"), 21),\n",
       " ((\" 'Bring', 'VERB'\", \" ('water', 'INGREDIENT'\"), 20),\n",
       " ((\" 'will', 'VERB'\", \" ('celery', 'INGREDIENT'\"), 20),\n",
       " ((\" 'running', 'VERB'\", \" ('chicken', 'INGREDIENT'\"), 20),\n",
       " ((\" 'running', 'VERB'\", \" ('water', 'INGREDIENT'\"), 19),\n",
       " ((\" 'be', 'VERB'\", \" ('chicken', 'INGREDIENT'\"), 19),\n",
       " ((\" 'stirring', 'VERB'\", \" ('water', 'INGREDIENT'\"), 17),\n",
       " ((\" 'make', 'VERB'\", \" ('water', 'INGREDIENT'\"), 17),\n",
       " ((\" 'is', 'VERB'\", \" ('flour', 'INGREDIENT'\"), 17),\n",
       " ((\" 'may', 'VERB'\", \" ('juice', 'INGREDIENT'\"), 17),\n",
       " ((\" 'be', 'VERB'\", \" ('juice', 'INGREDIENT'\"), 17),\n",
       " ((\" 'used', 'VERB'\", \" ('juice', 'INGREDIENT'\"), 17),\n",
       " ((\" 'may', 'VERB'\", \" ('water', 'INGREDIENT'\"), 17),\n",
       " ((\" 'be', 'VERB'\", \" ('water', 'INGREDIENT'\"), 17),\n",
       " ((\" 'may', 'VERB'\", \" ('tomato', 'INGREDIENT'\"), 17),\n",
       " ((\" 'be', 'VERB'\", \" ('tomato', 'INGREDIENT'\"), 17),\n",
       " ((\" 'used', 'VERB'\", \" ('tomato', 'INGREDIENT'\"), 17),\n",
       " ((\" 'may', 'VERB'\", \" ('concentrate', 'INGREDIENT'\"), 17),\n",
       " ((\" 'Add', 'VERB'\", \" ('milk', 'INGREDIENT'\"), 17),\n",
       " ((\" 'may', 'VERB'\", \" ('chicken', 'INGREDIENT'\"), 17),\n",
       " ((\" 'be', 'VERB'\", \" ('concentrate', 'INGREDIENT'\"), 16),\n",
       " ((\" 'used', 'VERB'\", \" ('concentrate', 'INGREDIENT'\"), 16),\n",
       " ((\" 'melted', 'VERB'\", \" ('shortening', 'INGREDIENT'\"), 16),\n",
       " ((\" 'quartered', 'VERB'\", \" ('chicken', 'INGREDIENT'\"), 16),\n",
       " ((\" 'is', 'VERB'\", \" ('dough', 'INGREDIENT'\"), 15),\n",
       " ((\" 'is', 'VERB'\", \" ('cheese', 'INGREDIENT'\"), 15),\n",
       " ((\" 'minced', 'VERB'\", \" ('garlic', 'INGREDIENT'\"), 14),\n",
       " ((\" 'diced', 'VERB'\", \" ('celery', 'INGREDIENT'\"), 13),\n",
       " ((\" 'Add', 'VERB'\", \" ('fat', 'INGREDIENT'\"), 13),\n",
       " ((\" 'Add', 'VERB'\", \" ('salt', 'INGREDIENT'\"), 12),\n",
       " ((\" 'Bring', 'VERB'\", \" ('salt', 'INGREDIENT'\"), 12),\n",
       " ((\" 'may', 'VERB'\", \" ('cheese', 'INGREDIENT'\"), 11),\n",
       " ((\" 'be', 'VERB'\", \" ('cheese', 'INGREDIENT'\"), 11),\n",
       " ((\" 'used', 'VERB'\", \" ('cheese', 'INGREDIENT'\"), 11),\n",
       " ((\" 'Remove', 'VERB'\", \" ('water', 'INGREDIENT'\"), 11),\n",
       " ((\" 'may', 'VERB'\", \" ('beans', 'INGREDIENT'\"), 11),\n",
       " ((\" 'incorporated', 'VERB'\", \" ('flour', 'INGREDIENT'\"), 11),\n",
       " ((\" 'removing', 'VERB'\", \" ('beans', 'INGREDIENT'\"), 11),\n",
       " ((\" 'salted', 'VERB'\", \" ('water', 'INGREDIENT'\"), 11),\n",
       " ((\" 'Bring', 'VERB'\", \" ('pepper', 'INGREDIENT'\"), 10),\n",
       " ((\" 'Add', 'VERB'\", \" ('flour', 'INGREDIENT'\"), 10),\n",
       " ((\" 'make', 'VERB'\", \" ('liquid', 'INGREDIENT'\"), 10),\n",
       " ((\" 'Add', 'VERB'\", \" ('garlic', 'INGREDIENT'\"), 10),\n",
       " ((\" 'stirring', 'VERB'\", \" ('beef', 'INGREDIENT'\"), 10),\n",
       " ((\" 'stirring', 'VERB'\", \" ('pink', 'INGREDIENT'\"), 10),\n",
       " ((\" 'Add', 'VERB'\", \" ('skim', 'INGREDIENT'\"), 10),\n",
       " ((\" 'add', 'VERB'\", \" ('milk', 'INGREDIENT'\"), 10),\n",
       " ((\" 'Bake', 'VERB'\", \" ('chicken', 'INGREDIENT'\"), 10),\n",
       " ((\" 'melted', 'VERB'\", \" ('oliveoil', 'INGREDIENT'\"), 10),\n",
       " ((\" 'adding', 'VERB'\", \" ('garlic', 'INGREDIENT'\"), 9),\n",
       " ((\" 'reduce', 'VERB'\", \" ('pepper', 'INGREDIENT'\"), 9),\n",
       " ((\" 'be', 'VERB'\", \" ('beans', 'INGREDIENT'\"), 9),\n",
       " ((\" 'DO', 'VERB'\", \" ('water', 'INGREDIENT'\"), 9),\n",
       " ((\" 'combined', 'VERB'\", \" ('dehydrated', 'INGREDIENT'\"), 9),\n",
       " ((\" 'discolored', 'VERB'\", \" ('beans', 'INGREDIENT'\"), 9),\n",
       " ((\" 'Follow', 'VERB'\", \" ('water', 'INGREDIENT'\"), 9),\n",
       " ((\" 'Blend', 'VERB'\", \" ('water', 'INGREDIENT'\"), 9),\n",
       " ((\" 'melted', 'VERB'\", \" ('cheese', 'INGREDIENT'\"), 9),\n",
       " ((\" 'flavoring', 'VERB'\", \" ('lemon', 'INGREDIENT'\"), 9),\n",
       " ((\" 'will', 'VERB'\", \" ('cabbage', 'INGREDIENT'\"), 9),\n",
       " ((\" 'melted', 'VERB'\", \" ('butter', 'INGREDIENT'\"), 9),\n",
       " ((\" 'Follow', 'VERB'\", \" ('filling', 'INGREDIENT'\"), 9),\n",
       " ((\" 'stirring', 'VERB'\", \" ('roux', 'INGREDIENT'\"), 9),\n",
       " ((\" 'Blend', 'VERB'\", \" ('salt', 'INGREDIENT'\"), 8),\n",
       " ((\" 'is', 'VERB'\", \" ('rice', 'INGREDIENT'\"), 8),\n",
       " ((\" 'Using', 'VERB'\", \" ('flour', 'INGREDIENT'\"), 8),\n",
       " ((\" 'Add', 'VERB'\", \" ('liquid', 'INGREDIENT'\"), 8),\n",
       " ((\" 'Add', 'VERB'\", \" ('pepper', 'INGREDIENT'\"), 8),\n",
       " ((\" 'according', 'VERB'\", \" ('rice', 'INGREDIENT'\"), 8),\n",
       " ((\" 'covered', 'VERB'\", \" ('water', 'INGREDIENT'\"), 7),\n",
       " ((\" 'is', 'VERB'\", \" ('water', 'INGREDIENT'\"), 7),\n",
       " ((\" 'are', 'VERB'\", \" ('beans', 'INGREDIENT'\"), 7),\n",
       " ((\" 'minced', 'VERB'\", \" ('water', 'INGREDIENT'\"), 7),\n",
       " ((\" 'stirring', 'VERB'\", \" ('flour', 'INGREDIENT'\"), 7),\n",
       " ((\" 'reduce', 'VERB'\", \" ('salt', 'INGREDIENT'\"), 7),\n",
       " ((\" 'flavored', 'VERB'\", \" ('chocolate', 'INGREDIENT'\"), 7),\n",
       " ((\" 'combined', 'VERB'\", \" ('egg', 'INGREDIENT'\"), 7),\n",
       " ((\" 'used', 'VERB'\", \" ('beans', 'INGREDIENT'\"), 7),\n",
       " ((\" 'stirring', 'VERB'\", \" ('milk', 'INGREDIENT'\"), 7),\n",
       " ((\" 'diced', 'VERB'\", \" ('beef', 'INGREDIENT'\"), 7),\n",
       " ((\" 'diced', 'VERB'\", \" ('pork', 'INGREDIENT'\"), 7),\n",
       " ((\" 'Remove', 'VERB'\", \" ('fat', 'INGREDIENT'\"), 7),\n",
       " ((\" 'Follow', 'VERB'\", \" ('gravy', 'INGREDIENT'\"), 7),\n",
       " ((\" 'sticking', 'VERB'\", \" ('water', 'INGREDIENT'\"), 6),\n",
       " ((\" 'Using', 'VERB'\", \" ('oil', 'INGREDIENT'\"), 6),\n",
       " ((\" 'Bring', 'VERB'\", \" ('leaves', 'INGREDIENT'\"), 6)]"
      ]
     },
     "execution_count": 6,
     "metadata": {},
     "output_type": "execute_result"
    }
   ],
   "source": [
    "verb_cooccs_surface.most_common(100)"
   ]
  },
  {
   "cell_type": "code",
   "execution_count": 7,
   "metadata": {},
   "outputs": [],
   "source": [
    "import helpers as hp\n",
    "\n",
    "hp.dump(verb_cooccs_surface, \"Cococcs of ingredients vs verbs\")"
   ]
  },
  {
   "cell_type": "code",
   "execution_count": null,
   "metadata": {},
   "outputs": [],
   "source": []
  }
 ],
 "metadata": {
  "kernelspec": {
   "display_name": "Python 3",
   "language": "python",
   "name": "python3"
  },
  "language_info": {
   "codemirror_mode": {
    "name": "ipython",
    "version": 3
   },
   "file_extension": ".py",
   "mimetype": "text/x-python",
   "name": "python",
   "nbconvert_exporter": "python",
   "pygments_lexer": "ipython3",
   "version": "3.7.9"
  },
  "toc": {
   "base_numbering": 1,
   "nav_menu": {},
   "number_sections": true,
   "sideBar": true,
   "skip_h1_title": false,
   "title_cell": "Table of Contents",
   "title_sidebar": "Contents",
   "toc_cell": false,
   "toc_position": {},
   "toc_section_display": true,
   "toc_window_display": false
  }
 },
 "nbformat": 4,
 "nbformat_minor": 4
}
