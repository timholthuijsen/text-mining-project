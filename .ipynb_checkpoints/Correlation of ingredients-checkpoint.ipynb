{
 "cells": [
  {
   "cell_type": "markdown",
   "metadata": {},
   "source": [
    "# Correlation of ingredients"
   ]
  },
  {
   "cell_type": "markdown",
   "metadata": {},
   "source": [
    "Objective: find the correlation between ingredients. Which occur together most often, and which do not?\n",
    "- Which ingredients appear most often? Make a word cloud. \n",
    "- Iterate throught the ingredient column in the recipe CSV and create a contextual co-occurence frequency table of ingredients"
   ]
  },
  {
   "cell_type": "code",
   "execution_count": 1,
   "metadata": {},
   "outputs": [
    {
     "data": {
      "text/plain": [
       "0    {'syrup', 'cardamom', 'marjoram', 'apple', 'ci...\n",
       "1    {'vegetable', 'rice', 'mushroom', 'oil', 'pars...\n",
       "2    {'vegetable', 'soy sauce', 'yeast', 'garlic', ...\n",
       "3    {'vegetable', 'soy sauce', 'yeast', 'garlic', ...\n",
       "4    {'oil', 'spice', 'gredients', 'water', 'onion'...\n",
       "Name: INGREDIENTS, dtype: object"
      ]
     },
     "execution_count": 1,
     "metadata": {},
     "output_type": "execute_result"
    }
   ],
   "source": [
    "import pandas as pd\n",
    "#dataset 1 - vegetarian\n",
    "df = pd.read_csv('recipes_veg.csv')\n",
    "saved_veg = df['INGREDIENTS'] \n",
    "#dataset 3 - armed\n",
    "df = pd.read_csv('recipes_armed.csv')\n",
    "saved_armed = df['INGREDIENTS'] \n",
    "#dataset 4 - common\n",
    "df = pd.read_csv('recipes_common.csv')\n",
    "saved_common = df['INGREDIENTS'] \n",
    "\n",
    "frames = [saved_veg, saved_armed, saved_common]\n",
    "#creating one dataframe with the set of ingredients\n",
    "result = pd.concat(frames)\n",
    "result.head()"
   ]
  },
  {
   "cell_type": "code",
   "execution_count": 29,
   "metadata": {},
   "outputs": [],
   "source": [
    "#importing libraries\n",
    "from itertools import permutations, chain\n",
    "from collections import Counter\n",
    "\n",
    "cooccs_surface = Counter()\n",
    "#contextual coocurrence\n",
    "for row in result:\n",
    "    for i,w in enumerate(row):\n",
    "        row = row.replace('}', \"\")\n",
    "        row = row.replace('{', \"\")\n",
    "        for w in row.split(','):\n",
    "            for cw in row.split(','):\n",
    "                if cw != w:\n",
    "                    cooccs_surface[(w, cw)] += 1\n",
    "    "
   ]
  },
  {
   "cell_type": "code",
   "execution_count": 6,
   "metadata": {
    "scrolled": true
   },
   "outputs": [
    {
     "data": {
      "text/plain": [
       "[((\" 'oil'\", \" 'water'\"), 54419),\n",
       " ((\" 'water'\", \" 'oil'\"), 54419),\n",
       " ((\" 'water'\", \" 'pepper'\"), 42363),\n",
       " ((\" 'pepper'\", \" 'water'\"), 42363),\n",
       " ((\" 'pepper'\", \" 'oil'\"), 39987),\n",
       " ((\" 'oil'\", \" 'pepper'\"), 39987),\n",
       " ((\" 'pepper'\", \" 'onion'\"), 39164),\n",
       " ((\" 'onion'\", \" 'pepper'\"), 39164),\n",
       " ((\" 'water'\", \" 'onion'\"), 38110),\n",
       " ((\" 'onion'\", \" 'water'\"), 38110),\n",
       " ((\" 'water'\", \" 'ice'\"), 37286),\n",
       " ((\" 'ice'\", \" 'water'\"), 37286),\n",
       " ((\" 'oil'\", \" 'onion'\"), 37064),\n",
       " ((\" 'onion'\", \" 'oil'\"), 37064),\n",
       " ((\" 'water'\", \" 'sugar'\"), 35730),\n",
       " ((\" 'sugar'\", \" 'water'\"), 35730),\n",
       " ((\" 'flour'\", \" 'water'\"), 35276),\n",
       " ((\" 'water'\", \" 'flour'\"), 35276),\n",
       " ((\" 'oil'\", \" 'ice'\"), 33192),\n",
       " ((\" 'ice'\", \" 'oil'\"), 33192),\n",
       " ((\" 'onion'\", \" 'ice'\"), 32156),\n",
       " ((\" 'ice'\", \" 'onion'\"), 32156),\n",
       " ((\" 'pepper'\", \" 'ice'\"), 30924),\n",
       " ((\" 'ice'\", \" 'pepper'\"), 30924),\n",
       " ((\" 'water'\", \" 'dehydrated'\"), 29560),\n",
       " ((\" 'dehydrated'\", \" 'water'\"), 29560),\n",
       " ((\" 'onion'\", \" 'dehydrated'\"), 29425),\n",
       " ((\" 'dehydrated'\", \" 'onion'\"), 29425),\n",
       " ((\" 'pepper'\", \" 'dehydrated'\"), 29091),\n",
       " ((\" 'dehydrated'\", \" 'pepper'\"), 29091),\n",
       " ((\" 'rain'\", \" 'water'\"), 29090),\n",
       " ((\" 'water'\", \" 'rain'\"), 29090),\n",
       " ((\" 'shortening'\", \" 'water'\"), 28853),\n",
       " ((\" 'water'\", \" 'shortening'\"), 28853),\n",
       " ((\" 'oil'\", \" 'dehydrated'\"), 27031),\n",
       " ((\" 'dehydrated'\", \" 'oil'\"), 27031),\n",
       " ((\" 'water'\", \" 'tea'\"), 26965),\n",
       " ((\" 'tea'\", \" 'water'\"), 26965),\n",
       " ((\" 'flour'\", \" 'oil'\"), 26491),\n",
       " ((\" 'oil'\", \" 'flour'\"), 26491),\n",
       " ((\" 'oil'\", \" 'sugar'\"), 26488),\n",
       " ((\" 'sugar'\", \" 'oil'\"), 26488),\n",
       " ((\" 'water'\", \" 'cons'\"), 26144),\n",
       " ((\" 'cons'\", \" 'water'\"), 26144),\n",
       " ((\" 'sugar'\", \" 'flour'\"), 25277),\n",
       " ((\" 'flour'\", \" 'sugar'\"), 25277),\n",
       " ((\" 'oil'\", \" 'tea'\"), 24076),\n",
       " ((\" 'tea'\", \" 'oil'\"), 24076),\n",
       " ((\" 'salad'\", \" 'oil'\"), 23616),\n",
       " ((\" 'oil'\", \" 'salad'\"), 23616),\n",
       " ((\" 'oil'\", \" 'cons'\"), 23570),\n",
       " ((\" 'cons'\", \" 'oil'\"), 23570),\n",
       " ((\" 'rain'\", \" 'oil'\"), 23499),\n",
       " ((\" 'oil'\", \" 'rain'\"), 23499),\n",
       " ((\" 'shortening'\", \" 'flour'\"), 23314),\n",
       " ((\" 'flour'\", \" 'shortening'\"), 23314),\n",
       " ((\" 'garlic'\", \" 'onion'\"), 23197),\n",
       " ((\" 'onion'\", \" 'garlic'\"), 23197),\n",
       " ((\" 'garlic'\", \" 'water'\"), 22575),\n",
       " ((\" 'water'\", \" 'garlic'\"), 22575),\n",
       " ((\" 'salad'\", \" 'water'\"), 22456),\n",
       " ((\" 'water'\", \" 'salad'\"), 22456),\n",
       " ((\" 'rain'\", \" 'pepper'\"), 22309),\n",
       " ((\" 'pepper'\", \" 'rain'\"), 22309),\n",
       " ((\" 'water'\", \" 'juice'\"), 22204),\n",
       " ((\" 'juice'\", \" 'water'\"), 22204),\n",
       " ((\" 'garlic'\", \" 'pepper'\"), 22037),\n",
       " ((\" 'pepper'\", \" 'garlic'\"), 22037),\n",
       " ((\" 'garlic'\", \" 'oil'\"), 21915),\n",
       " ((\" 'oil'\", \" 'garlic'\"), 21915),\n",
       " ((\" 'tomato'\", \" 'onion'\"), 21506),\n",
       " ((\" 'onion'\", \" 'tomato'\"), 21506),\n",
       " ((\" 'rain'\", \" 'ice'\"), 21483),\n",
       " ((\" 'ice'\", \" 'rain'\"), 21483),\n",
       " ((\" 'ice'\", \" 'dehydrated'\"), 21439),\n",
       " ((\" 'dehydrated'\", \" 'ice'\"), 21439),\n",
       " ((\" 'shortening'\", \" 'oil'\"), 21267),\n",
       " ((\" 'oil'\", \" 'shortening'\"), 21267),\n",
       " ((\" 'pepper'\", \" 'tea'\"), 20717),\n",
       " ((\" 'tea'\", \" 'pepper'\"), 20717),\n",
       " ((\" 'tomato'\", \" 'pepper'\"), 20712),\n",
       " ((\" 'pepper'\", \" 'tomato'\"), 20712),\n",
       " ((\" 'butter'\", \" 'margarine'\"), 20654),\n",
       " ((\" 'margarine'\", \" 'butter'\"), 20654),\n",
       " ((\" 'salad'\", \" 'pepper'\"), 20620),\n",
       " ((\" 'pepper'\", \" 'salad'\"), 20620),\n",
       " ((\" 'shortening'\", \" 'sugar'\"), 20340),\n",
       " ((\" 'sugar'\", \" 'shortening'\"), 20340),\n",
       " ((\" 'oil'\", \" 'juice'\"), 19772),\n",
       " ((\" 'juice'\", \" 'oil'\"), 19772),\n",
       " ((\" 'tomato'\", \" 'water'\"), 19580),\n",
       " ((\" 'water'\", \" 'tomato'\"), 19580),\n",
       " ((\" 'salad'\", \" 'onion'\"), 19454),\n",
       " ((\" 'onion'\", \" 'salad'\"), 19454),\n",
       " ((\" 'tomato'\", \" 'ice'\"), 19170),\n",
       " ((\" 'ice'\", \" 'tomato'\"), 19170),\n",
       " ((\" 'tomato'\", \" 'oil'\"), 19056),\n",
       " ((\" 'oil'\", \" 'tomato'\"), 19056),\n",
       " ((\" 'rain'\", \" 'onion'\"), 19014),\n",
       " ((\" 'onion'\", \" 'rain'\"), 19014)]"
      ]
     },
     "execution_count": 6,
     "metadata": {},
     "output_type": "execute_result"
    }
   ],
   "source": [
    "cooccs_surface.most_common(100)"
   ]
  },
  {
   "cell_type": "markdown",
   "metadata": {},
   "source": [
    "# Correlation of verb with noun, what are the actions? "
   ]
  },
  {
   "cell_type": "code",
   "execution_count": 149,
   "metadata": {},
   "outputs": [
    {
     "data": {
      "text/plain": [
       "0    [('pierce', 'NOUN'), ('top', 'NOUN'), ('of', '...\n",
       "1    [('in', 'ADP'), ('a', 'DET'), ('one', 'NUM'), ...\n",
       "2    [('broth', 'INGREDIENT'), ('for', 'ADP'), ('bo...\n",
       "3    [('broth', 'INGREDIENT'), ('for', 'ADP'), ('bo...\n",
       "4    [('in', 'ADP'), ('a', 'DET'), ('medium', 'NOUN...\n",
       "5    [('broth', 'INGREDIENT'), ('for', 'ADP'), ('bo...\n",
       "6    [('temperture', 'NOUN'), ('350', 'NUM'), ('f',...\n",
       "7    [('preheat', 'NOUN'), ('oven', 'ADV'), ('to', ...\n",
       "8    [('preheat', 'NOUN'), ('oven', 'ADV'), ('to', ...\n",
       "9    [('size', 'NOUN'), ('of', 'ADP'), ('pan', 'NOU...\n",
       "Name: METHOD, dtype: object"
      ]
     },
     "execution_count": 149,
     "metadata": {},
     "output_type": "execute_result"
    }
   ],
   "source": [
    "#dataset 1 - vegetarian\n",
    "df = pd.read_csv('recipes_veg.csv')\n",
    "saved_veg = df['METHOD'] \n",
    "#dataset 3 - armed\n",
    "df = pd.read_csv('recipes_armed.csv')\n",
    "saved_armed = df['METHOD'] \n",
    "#dataset 4 - common\n",
    "df = pd.read_csv('recipes_common.csv')\n",
    "saved_common = df['METHOD'] \n",
    "\n",
    "frames = [saved_veg, saved_armed, saved_common]\n",
    "#creating one dataframe with the methods\n",
    "method = pd.concat(frames)\n",
    "method.head(10)"
   ]
  },
  {
   "cell_type": "code",
   "execution_count": null,
   "metadata": {},
   "outputs": [],
   "source": [
    "Method = list(method)"
   ]
  },
  {
   "cell_type": "code",
   "execution_count": 177,
   "metadata": {
    "scrolled": true
   },
   "outputs": [
    {
     "ename": "AttributeError",
     "evalue": "'int' object has no attribute 'items'",
     "output_type": "error",
     "traceback": [
      "\u001b[1;31m---------------------------------------------------------------------------\u001b[0m",
      "\u001b[1;31mAttributeError\u001b[0m                            Traceback (most recent call last)",
      "\u001b[1;32m<ipython-input-177-7273673bb55a>\u001b[0m in \u001b[0;36m<module>\u001b[1;34m\u001b[0m\n\u001b[0;32m      3\u001b[0m \u001b[1;32mfor\u001b[0m \u001b[0mi\u001b[0m \u001b[1;32min\u001b[0m \u001b[0mrange\u001b[0m\u001b[1;33m(\u001b[0m\u001b[0mlen\u001b[0m\u001b[1;33m(\u001b[0m\u001b[0mmethod\u001b[0m\u001b[1;33m)\u001b[0m\u001b[1;33m)\u001b[0m\u001b[1;33m:\u001b[0m\u001b[1;33m\u001b[0m\u001b[1;33m\u001b[0m\u001b[0m\n\u001b[0;32m      4\u001b[0m     \u001b[0mMethod2\u001b[0m \u001b[1;33m=\u001b[0m \u001b[1;33m[\u001b[0m\u001b[1;33m]\u001b[0m\u001b[1;33m\u001b[0m\u001b[1;33m\u001b[0m\u001b[0m\n\u001b[1;32m----> 5\u001b[1;33m     \u001b[0mMethod2\u001b[0m\u001b[1;33m.\u001b[0m\u001b[0mappend\u001b[0m\u001b[1;33m(\u001b[0m\u001b[0mpd\u001b[0m\u001b[1;33m.\u001b[0m\u001b[0mSeries\u001b[0m\u001b[1;33m.\u001b[0m\u001b[0mto_dict\u001b[0m\u001b[1;33m(\u001b[0m\u001b[0mi\u001b[0m\u001b[1;33m)\u001b[0m\u001b[1;33m)\u001b[0m\u001b[1;33m\u001b[0m\u001b[1;33m\u001b[0m\u001b[0m\n\u001b[0m\u001b[0;32m      6\u001b[0m \u001b[1;33m\u001b[0m\u001b[0m\n\u001b[0;32m      7\u001b[0m \u001b[0mast\u001b[0m\u001b[1;33m.\u001b[0m\u001b[0mliteral_eval\u001b[0m\u001b[1;33m(\u001b[0m\u001b[0mmethod\u001b[0m\u001b[1;33m[\u001b[0m\u001b[0mi\u001b[0m\u001b[1;33m]\u001b[0m\u001b[1;33m)\u001b[0m\u001b[1;33m\u001b[0m\u001b[1;33m\u001b[0m\u001b[0m\n",
      "\u001b[1;32m~\\anaconda3\\envs\\myenv\\lib\\site-packages\\pandas\\core\\series.py\u001b[0m in \u001b[0;36mto_dict\u001b[1;34m(self, into)\u001b[0m\n\u001b[0;32m   1527\u001b[0m         \u001b[1;31m# GH16122\u001b[0m\u001b[1;33m\u001b[0m\u001b[1;33m\u001b[0m\u001b[1;33m\u001b[0m\u001b[0m\n\u001b[0;32m   1528\u001b[0m         \u001b[0minto_c\u001b[0m \u001b[1;33m=\u001b[0m \u001b[0mcom\u001b[0m\u001b[1;33m.\u001b[0m\u001b[0mstandardize_mapping\u001b[0m\u001b[1;33m(\u001b[0m\u001b[0minto\u001b[0m\u001b[1;33m)\u001b[0m\u001b[1;33m\u001b[0m\u001b[1;33m\u001b[0m\u001b[0m\n\u001b[1;32m-> 1529\u001b[1;33m         \u001b[1;32mreturn\u001b[0m \u001b[0minto_c\u001b[0m\u001b[1;33m(\u001b[0m\u001b[0mself\u001b[0m\u001b[1;33m.\u001b[0m\u001b[0mitems\u001b[0m\u001b[1;33m(\u001b[0m\u001b[1;33m)\u001b[0m\u001b[1;33m)\u001b[0m\u001b[1;33m\u001b[0m\u001b[1;33m\u001b[0m\u001b[0m\n\u001b[0m\u001b[0;32m   1530\u001b[0m \u001b[1;33m\u001b[0m\u001b[0m\n\u001b[0;32m   1531\u001b[0m     \u001b[1;32mdef\u001b[0m \u001b[0mto_frame\u001b[0m\u001b[1;33m(\u001b[0m\u001b[0mself\u001b[0m\u001b[1;33m,\u001b[0m \u001b[0mname\u001b[0m\u001b[1;33m=\u001b[0m\u001b[1;32mNone\u001b[0m\u001b[1;33m)\u001b[0m \u001b[1;33m->\u001b[0m \u001b[1;34m\"DataFrame\"\u001b[0m\u001b[1;33m:\u001b[0m\u001b[1;33m\u001b[0m\u001b[1;33m\u001b[0m\u001b[0m\n",
      "\u001b[1;31mAttributeError\u001b[0m: 'int' object has no attribute 'items'"
     ]
    }
   ],
   "source": [
    "import ast\n",
    "\n",
    "for i in range(len(method)):\n",
    "    Method2 = []\n",
    "    Method2.append(pd.Series.to_dict(i))\n",
    "    \n",
    "ast.literal_eval(method[i])"
   ]
  },
  {
   "cell_type": "code",
   "execution_count": 164,
   "metadata": {},
   "outputs": [
    {
     "name": "stdout",
     "output_type": "stream",
     "text": [
      "[('chocolate', 'NOUN'), ('cake', 'VERB'), ('n', 'NOUN'), ('grease', 'NOUN'), ('and', 'CONJ'), ('flour', 'INGREDIENT'), ('a', 'DET'), ('10x15', 'NUM'), ('jelly', 'ADV'), ('roll', 'NOUN'), ('pan', 'NOUN'), ('in', 'ADP'), ('a', 'DET'), ('large', 'ADJ'), ('bowl', 'NOUN'), ('sift', 'NOUN'), ('together', 'ADV'), ('flour', 'INGREDIENT'), ('sugar', 'INGREDIENT'), ('baking', 'NOUN'), ('soda', 'NOUN'), ('cinnamon', 'INGREDIENT'), ('and', 'CONJ'), ('salt', 'NOUN'), ('in', 'ADP'), ('a', 'DET'), ('saucepan', 'NOUN'), ('combine', 'NOUN'), ('margarine', 'INGREDIENT'), ('shorten', 'VERB'), ('cocoa', 'INGREDIENT'), ('and', 'CONJ'), ('water', 'INGREDIENT'), ('bring', 'VERB'), ('to', 'PRT'), ('boil', 'NOUN'), ('cook', 'NOUN'), ('for', 'ADP'), ('1', 'NUM'), ('minute', 'NOUN'), ('pour', 'NOUN'), ('over', 'ADP'), ('the', 'DET'), ('dry', 'NOUN'), ('ingredient', 'NOUN'), ('stir', 'NOUN'), ('well', 'ADV'), ('blend', 'VERB'), ('in', 'ADP'), ('beaten', 'NOUN'), ('egg', 'INGREDIENT'), ('and', 'CONJ'), ('buttermilk', 'NOUN'), ('bake', 'VERB'), ('at', 'ADP'), ('350', 'NUM'), ('degree', 'NOUN'), ('f', 'NOUN'), ('for', 'ADP'), ('30', 'NUM'), ('minute', 'NOUN'), ('or', 'CONJ'), ('until', 'ADP'), ('toothpick', 'NOUN'), ('insert', 'VERB'), ('into', 'ADP'), ('center', 'NOUN'), ('of', 'ADP'), ('cake', 'NOUN'), ('come', 'VERB'), ('out', 'ADP'), ('clean', 'NOUN'), ('let', 'VERB'), ('cool', 'NOUN'), ('n', 'NOUN'), ('fluffy', 'NOUN'), ('white', 'NOUN'), ('icing', 'VERB'), ('n', 'NOUN'), ('in', 'ADP'), ('a', 'DET'), ('saucepan', 'NOUN'), ('combine', 'NOUN'), ('the', 'DET'), ('sugar', 'INGREDIENT'), ('water', 'INGREDIENT'), ('and', 'CONJ'), ('cream', 'INGREDIENT'), ('of', 'ADP'), ('tartar', 'NOUN'), ('cook', 'NOUN'), ('over', 'ADP'), ('medium', 'NOUN'), ('high', 'ADJ'), ('heat', 'NOUN'), ('until', 'ADP'), ('sugar', 'INGREDIENT'), ('be', 'VERB'), ('dissolve', 'VERB'), ('and', 'CONJ'), ('the', 'DET'), ('mixture', 'NOUN'), ('be', 'VERB'), ('bubbly', 'ADV'), ('in', 'ADP'), ('a', 'DET'), ('medium', 'NOUN'), ('bowl', 'NOUN'), ('whip', 'NOUN'), ('egg', 'INGREDIENT'), ('white', 'NOUN'), ('and', 'CONJ'), ('vanilla', 'INGREDIENT'), ('to', 'PRT'), ('soft', 'ADJ'), ('peak', 'NOUN'), ('slowly', 'ADV'), ('add', 'VERB'), ('the', 'DET'), ('sugar', 'INGREDIENT'), ('mixture', 'NOUN'), ('while', 'ADP'), ('whip', 'VERB'), ('constantly', 'ADV'), ('until', 'ADP'), ('soft', 'ADJ'), ('peak', 'NOUN'), ('form', 'NOUN'), ('about', 'ADP'), ('7', 'NUM'), ('10', 'NUM'), ('minute', 'NOUN'), ('spread', 'NOUN'), ('on', 'ADP'), ('cake', 'NOUN'), ('n', 'NOUN'), ('yield', 'NOUN'), ('12', 'NUM'), ('servings', 'NOUN'), ('n', 'NOUN')]\n"
     ]
    },
    {
     "ename": "TypeError",
     "evalue": "'list' object is not callable",
     "output_type": "error",
     "traceback": [
      "\u001b[1;31m---------------------------------------------------------------------------\u001b[0m",
      "\u001b[1;31mTypeError\u001b[0m                                 Traceback (most recent call last)",
      "\u001b[1;32m<ipython-input-164-e6dec5e824c7>\u001b[0m in \u001b[0;36m<module>\u001b[1;34m\u001b[0m\n\u001b[0;32m      5\u001b[0m     \u001b[1;32mreturn\u001b[0m \u001b[0mli\u001b[0m\u001b[1;33m\u001b[0m\u001b[1;33m\u001b[0m\u001b[0m\n\u001b[0;32m      6\u001b[0m \u001b[1;33m\u001b[0m\u001b[0m\n\u001b[1;32m----> 7\u001b[1;33m \u001b[0mc\u001b[0m \u001b[1;33m=\u001b[0m \u001b[0mConvert\u001b[0m\u001b[1;33m(\u001b[0m\u001b[0mch\u001b[0m\u001b[1;33m)\u001b[0m\u001b[1;33m\u001b[0m\u001b[1;33m\u001b[0m\u001b[0m\n\u001b[0m\u001b[0;32m      8\u001b[0m \u001b[0mprint\u001b[0m\u001b[1;33m(\u001b[0m\u001b[0mc\u001b[0m\u001b[1;33m)\u001b[0m\u001b[1;33m\u001b[0m\u001b[1;33m\u001b[0m\u001b[0m\n",
      "\u001b[1;32m<ipython-input-164-e6dec5e824c7>\u001b[0m in \u001b[0;36mConvert\u001b[1;34m(string)\u001b[0m\n\u001b[0;32m      2\u001b[0m \u001b[0mprint\u001b[0m\u001b[1;33m(\u001b[0m\u001b[0mch\u001b[0m\u001b[1;33m)\u001b[0m\u001b[1;33m\u001b[0m\u001b[1;33m\u001b[0m\u001b[0m\n\u001b[0;32m      3\u001b[0m \u001b[1;32mdef\u001b[0m \u001b[0mConvert\u001b[0m\u001b[1;33m(\u001b[0m\u001b[0mstring\u001b[0m\u001b[1;33m)\u001b[0m\u001b[1;33m:\u001b[0m\u001b[1;33m\u001b[0m\u001b[1;33m\u001b[0m\u001b[0m\n\u001b[1;32m----> 4\u001b[1;33m     \u001b[0mli\u001b[0m \u001b[1;33m=\u001b[0m \u001b[0mlist\u001b[0m\u001b[1;33m(\u001b[0m\u001b[0mstring\u001b[0m\u001b[1;33m.\u001b[0m\u001b[0msplit\u001b[0m\u001b[1;33m(\u001b[0m\u001b[1;34m\"), (\"\u001b[0m\u001b[1;33m)\u001b[0m\u001b[1;33m)\u001b[0m\u001b[1;33m\u001b[0m\u001b[1;33m\u001b[0m\u001b[0m\n\u001b[0m\u001b[0;32m      5\u001b[0m     \u001b[1;32mreturn\u001b[0m \u001b[0mli\u001b[0m\u001b[1;33m\u001b[0m\u001b[1;33m\u001b[0m\u001b[0m\n\u001b[0;32m      6\u001b[0m \u001b[1;33m\u001b[0m\u001b[0m\n",
      "\u001b[1;31mTypeError\u001b[0m: 'list' object is not callable"
     ]
    }
   ],
   "source": [
    "ch = Method[6]\n",
    "print(ch)\n",
    "def Convert(string):\n",
    "    li = list(string.split(\"), (\"))\n",
    "    return li\n",
    "\n",
    "c = Convert(ch)\n",
    "print(c)"
   ]
  },
  {
   "cell_type": "code",
   "execution_count": 108,
   "metadata": {},
   "outputs": [
    {
     "name": "stdout",
     "output_type": "stream",
     "text": [
      "'\n"
     ]
    }
   ],
   "source": [
    "new = [s.replace(\")]\", \" \") for s in c]\n",
    "new = [s.replace(\"[(\", \" \") for s in new]\n",
    "print(new[-1][0])"
   ]
  },
  {
   "cell_type": "code",
   "execution_count": 170,
   "metadata": {},
   "outputs": [
    {
     "ename": "ValueError",
     "evalue": "malformed node or string: 0    [('pierce', 'NOUN'), ('top', 'NOUN'), ('of', '...\n0    [('score', 'NOUN'), ('core', 'VERB'), ('unpeel...\n0    [('yield', 'NOUN'), ('6', 'NUM'), ('servings',...\nName: METHOD, dtype: object",
     "output_type": "error",
     "traceback": [
      "\u001b[1;31m---------------------------------------------------------------------------\u001b[0m",
      "\u001b[1;31mValueError\u001b[0m                                Traceback (most recent call last)",
      "\u001b[1;32m<ipython-input-170-60c1932b7e5b>\u001b[0m in \u001b[0;36m<module>\u001b[1;34m\u001b[0m\n\u001b[0;32m      3\u001b[0m \u001b[1;32mfor\u001b[0m \u001b[0mi\u001b[0m \u001b[1;32min\u001b[0m \u001b[0mrange\u001b[0m\u001b[1;33m(\u001b[0m\u001b[0mlen\u001b[0m\u001b[1;33m(\u001b[0m\u001b[0mmethod\u001b[0m\u001b[1;33m)\u001b[0m\u001b[1;33m)\u001b[0m\u001b[1;33m:\u001b[0m\u001b[1;33m\u001b[0m\u001b[1;33m\u001b[0m\u001b[0m\n\u001b[0;32m      4\u001b[0m     \u001b[0mrecipes\u001b[0m \u001b[1;33m=\u001b[0m \u001b[1;33m[\u001b[0m\u001b[1;33m]\u001b[0m\u001b[1;33m\u001b[0m\u001b[1;33m\u001b[0m\u001b[0m\n\u001b[1;32m----> 5\u001b[1;33m     \u001b[0mrec\u001b[0m \u001b[1;33m=\u001b[0m \u001b[0mast\u001b[0m\u001b[1;33m.\u001b[0m\u001b[0mliteral_eval\u001b[0m\u001b[1;33m(\u001b[0m\u001b[0mmethod\u001b[0m\u001b[1;33m[\u001b[0m\u001b[0mi\u001b[0m\u001b[1;33m]\u001b[0m\u001b[1;33m)\u001b[0m\u001b[1;33m\u001b[0m\u001b[1;33m\u001b[0m\u001b[0m\n\u001b[0m\u001b[0;32m      6\u001b[0m     \u001b[0mrecipes\u001b[0m\u001b[1;33m.\u001b[0m\u001b[0mappend\u001b[0m\u001b[1;33m(\u001b[0m\u001b[0mrec\u001b[0m\u001b[1;33m)\u001b[0m\u001b[1;33m\u001b[0m\u001b[1;33m\u001b[0m\u001b[0m\n\u001b[0;32m      7\u001b[0m \u001b[1;33m\u001b[0m\u001b[0m\n",
      "\u001b[1;32m~\\anaconda3\\envs\\myenv\\lib\\ast.py\u001b[0m in \u001b[0;36mliteral_eval\u001b[1;34m(node_or_string)\u001b[0m\n\u001b[0;32m     89\u001b[0m                     \u001b[1;32mreturn\u001b[0m \u001b[0mleft\u001b[0m \u001b[1;33m-\u001b[0m \u001b[0mright\u001b[0m\u001b[1;33m\u001b[0m\u001b[1;33m\u001b[0m\u001b[0m\n\u001b[0;32m     90\u001b[0m         \u001b[1;32mreturn\u001b[0m \u001b[0m_convert_signed_num\u001b[0m\u001b[1;33m(\u001b[0m\u001b[0mnode\u001b[0m\u001b[1;33m)\u001b[0m\u001b[1;33m\u001b[0m\u001b[1;33m\u001b[0m\u001b[0m\n\u001b[1;32m---> 91\u001b[1;33m     \u001b[1;32mreturn\u001b[0m \u001b[0m_convert\u001b[0m\u001b[1;33m(\u001b[0m\u001b[0mnode_or_string\u001b[0m\u001b[1;33m)\u001b[0m\u001b[1;33m\u001b[0m\u001b[1;33m\u001b[0m\u001b[0m\n\u001b[0m\u001b[0;32m     92\u001b[0m \u001b[1;33m\u001b[0m\u001b[0m\n\u001b[0;32m     93\u001b[0m \u001b[1;33m\u001b[0m\u001b[0m\n",
      "\u001b[1;32m~\\anaconda3\\envs\\myenv\\lib\\ast.py\u001b[0m in \u001b[0;36m_convert\u001b[1;34m(node)\u001b[0m\n\u001b[0;32m     88\u001b[0m                 \u001b[1;32melse\u001b[0m\u001b[1;33m:\u001b[0m\u001b[1;33m\u001b[0m\u001b[1;33m\u001b[0m\u001b[0m\n\u001b[0;32m     89\u001b[0m                     \u001b[1;32mreturn\u001b[0m \u001b[0mleft\u001b[0m \u001b[1;33m-\u001b[0m \u001b[0mright\u001b[0m\u001b[1;33m\u001b[0m\u001b[1;33m\u001b[0m\u001b[0m\n\u001b[1;32m---> 90\u001b[1;33m         \u001b[1;32mreturn\u001b[0m \u001b[0m_convert_signed_num\u001b[0m\u001b[1;33m(\u001b[0m\u001b[0mnode\u001b[0m\u001b[1;33m)\u001b[0m\u001b[1;33m\u001b[0m\u001b[1;33m\u001b[0m\u001b[0m\n\u001b[0m\u001b[0;32m     91\u001b[0m     \u001b[1;32mreturn\u001b[0m \u001b[0m_convert\u001b[0m\u001b[1;33m(\u001b[0m\u001b[0mnode_or_string\u001b[0m\u001b[1;33m)\u001b[0m\u001b[1;33m\u001b[0m\u001b[1;33m\u001b[0m\u001b[0m\n\u001b[0;32m     92\u001b[0m \u001b[1;33m\u001b[0m\u001b[0m\n",
      "\u001b[1;32m~\\anaconda3\\envs\\myenv\\lib\\ast.py\u001b[0m in \u001b[0;36m_convert_signed_num\u001b[1;34m(node)\u001b[0m\n\u001b[0;32m     61\u001b[0m             \u001b[1;32melse\u001b[0m\u001b[1;33m:\u001b[0m\u001b[1;33m\u001b[0m\u001b[1;33m\u001b[0m\u001b[0m\n\u001b[0;32m     62\u001b[0m                 \u001b[1;32mreturn\u001b[0m \u001b[1;33m-\u001b[0m \u001b[0moperand\u001b[0m\u001b[1;33m\u001b[0m\u001b[1;33m\u001b[0m\u001b[0m\n\u001b[1;32m---> 63\u001b[1;33m         \u001b[1;32mreturn\u001b[0m \u001b[0m_convert_num\u001b[0m\u001b[1;33m(\u001b[0m\u001b[0mnode\u001b[0m\u001b[1;33m)\u001b[0m\u001b[1;33m\u001b[0m\u001b[1;33m\u001b[0m\u001b[0m\n\u001b[0m\u001b[0;32m     64\u001b[0m     \u001b[1;32mdef\u001b[0m \u001b[0m_convert\u001b[0m\u001b[1;33m(\u001b[0m\u001b[0mnode\u001b[0m\u001b[1;33m)\u001b[0m\u001b[1;33m:\u001b[0m\u001b[1;33m\u001b[0m\u001b[1;33m\u001b[0m\u001b[0m\n\u001b[0;32m     65\u001b[0m         \u001b[1;32mif\u001b[0m \u001b[0misinstance\u001b[0m\u001b[1;33m(\u001b[0m\u001b[0mnode\u001b[0m\u001b[1;33m,\u001b[0m \u001b[0mConstant\u001b[0m\u001b[1;33m)\u001b[0m\u001b[1;33m:\u001b[0m\u001b[1;33m\u001b[0m\u001b[1;33m\u001b[0m\u001b[0m\n",
      "\u001b[1;32m~\\anaconda3\\envs\\myenv\\lib\\ast.py\u001b[0m in \u001b[0;36m_convert_num\u001b[1;34m(node)\u001b[0m\n\u001b[0;32m     53\u001b[0m         \u001b[1;32melif\u001b[0m \u001b[0misinstance\u001b[0m\u001b[1;33m(\u001b[0m\u001b[0mnode\u001b[0m\u001b[1;33m,\u001b[0m \u001b[0mNum\u001b[0m\u001b[1;33m)\u001b[0m\u001b[1;33m:\u001b[0m\u001b[1;33m\u001b[0m\u001b[1;33m\u001b[0m\u001b[0m\n\u001b[0;32m     54\u001b[0m             \u001b[1;32mreturn\u001b[0m \u001b[0mnode\u001b[0m\u001b[1;33m.\u001b[0m\u001b[0mn\u001b[0m\u001b[1;33m\u001b[0m\u001b[1;33m\u001b[0m\u001b[0m\n\u001b[1;32m---> 55\u001b[1;33m         \u001b[1;32mraise\u001b[0m \u001b[0mValueError\u001b[0m\u001b[1;33m(\u001b[0m\u001b[1;34m'malformed node or string: '\u001b[0m \u001b[1;33m+\u001b[0m \u001b[0mrepr\u001b[0m\u001b[1;33m(\u001b[0m\u001b[0mnode\u001b[0m\u001b[1;33m)\u001b[0m\u001b[1;33m)\u001b[0m\u001b[1;33m\u001b[0m\u001b[1;33m\u001b[0m\u001b[0m\n\u001b[0m\u001b[0;32m     56\u001b[0m     \u001b[1;32mdef\u001b[0m \u001b[0m_convert_signed_num\u001b[0m\u001b[1;33m(\u001b[0m\u001b[0mnode\u001b[0m\u001b[1;33m)\u001b[0m\u001b[1;33m:\u001b[0m\u001b[1;33m\u001b[0m\u001b[1;33m\u001b[0m\u001b[0m\n\u001b[0;32m     57\u001b[0m         \u001b[1;32mif\u001b[0m \u001b[0misinstance\u001b[0m\u001b[1;33m(\u001b[0m\u001b[0mnode\u001b[0m\u001b[1;33m,\u001b[0m \u001b[0mUnaryOp\u001b[0m\u001b[1;33m)\u001b[0m \u001b[1;32mand\u001b[0m \u001b[0misinstance\u001b[0m\u001b[1;33m(\u001b[0m\u001b[0mnode\u001b[0m\u001b[1;33m.\u001b[0m\u001b[0mop\u001b[0m\u001b[1;33m,\u001b[0m \u001b[1;33m(\u001b[0m\u001b[0mUAdd\u001b[0m\u001b[1;33m,\u001b[0m \u001b[0mUSub\u001b[0m\u001b[1;33m)\u001b[0m\u001b[1;33m)\u001b[0m\u001b[1;33m:\u001b[0m\u001b[1;33m\u001b[0m\u001b[1;33m\u001b[0m\u001b[0m\n",
      "\u001b[1;31mValueError\u001b[0m: malformed node or string: 0    [('pierce', 'NOUN'), ('top', 'NOUN'), ('of', '...\n0    [('score', 'NOUN'), ('core', 'VERB'), ('unpeel...\n0    [('yield', 'NOUN'), ('6', 'NUM'), ('servings',...\nName: METHOD, dtype: object"
     ]
    }
   ],
   "source": [
    "for i in range(len(method)):\n",
    "    recipes = []\n",
    "    rec = \n",
    "    recipes.append(rec)\n",
    "    \n",
    "print(recipes)"
   ]
  },
  {
   "cell_type": "code",
   "execution_count": 106,
   "metadata": {},
   "outputs": [
    {
     "ename": "ValueError",
     "evalue": "dictionary update sequence element #0 has length 11; 2 is required",
     "output_type": "error",
     "traceback": [
      "\u001b[1;31m---------------------------------------------------------------------------\u001b[0m",
      "\u001b[1;31mValueError\u001b[0m                                Traceback (most recent call last)",
      "\u001b[1;32m<ipython-input-106-096662022599>\u001b[0m in \u001b[0;36m<module>\u001b[1;34m\u001b[0m\n\u001b[1;32m----> 1\u001b[1;33m \u001b[0mmy_dict\u001b[0m \u001b[1;33m=\u001b[0m \u001b[0mdict\u001b[0m\u001b[1;33m(\u001b[0m\u001b[0mnew\u001b[0m\u001b[1;33m)\u001b[0m\u001b[1;33m\u001b[0m\u001b[1;33m\u001b[0m\u001b[0m\n\u001b[0m\u001b[0;32m      2\u001b[0m \u001b[0mprint\u001b[0m\u001b[1;33m(\u001b[0m\u001b[0mmy_dict\u001b[0m\u001b[1;33m)\u001b[0m\u001b[1;33m\u001b[0m\u001b[1;33m\u001b[0m\u001b[0m\n",
      "\u001b[1;31mValueError\u001b[0m: dictionary update sequence element #0 has length 11; 2 is required"
     ]
    }
   ],
   "source": [
    "my_dict = dict(new)\n",
    "print(my_dict)"
   ]
  },
  {
   "cell_type": "code",
   "execution_count": 105,
   "metadata": {},
   "outputs": [
    {
     "ename": "ValueError",
     "evalue": "not enough values to unpack (expected 2, got 1)",
     "output_type": "error",
     "traceback": [
      "\u001b[1;31m---------------------------------------------------------------------------\u001b[0m",
      "\u001b[1;31mValueError\u001b[0m                                Traceback (most recent call last)",
      "\u001b[1;32m<ipython-input-105-bcb0ad8e6c8c>\u001b[0m in \u001b[0;36m<module>\u001b[1;34m\u001b[0m\n\u001b[0;32m      1\u001b[0m \u001b[0mdict_1\u001b[0m \u001b[1;33m=\u001b[0m \u001b[1;33m{\u001b[0m\u001b[1;33m}\u001b[0m\u001b[1;33m\u001b[0m\u001b[1;33m\u001b[0m\u001b[0m\n\u001b[0;32m      2\u001b[0m \u001b[1;32mfor\u001b[0m \u001b[0mi\u001b[0m \u001b[1;32min\u001b[0m \u001b[0mrange\u001b[0m\u001b[1;33m(\u001b[0m\u001b[0mlen\u001b[0m\u001b[1;33m(\u001b[0m\u001b[0mnew\u001b[0m\u001b[1;33m)\u001b[0m\u001b[1;33m)\u001b[0m\u001b[1;33m:\u001b[0m\u001b[1;33m\u001b[0m\u001b[1;33m\u001b[0m\u001b[0m\n\u001b[1;32m----> 3\u001b[1;33m     \u001b[1;32mfor\u001b[0m \u001b[0mk\u001b[0m\u001b[1;33m,\u001b[0m\u001b[0mv\u001b[0m \u001b[1;32min\u001b[0m \u001b[0mnew\u001b[0m\u001b[1;33m[\u001b[0m\u001b[0mi\u001b[0m\u001b[1;33m]\u001b[0m\u001b[1;33m:\u001b[0m\u001b[1;33m\u001b[0m\u001b[1;33m\u001b[0m\u001b[0m\n\u001b[0m\u001b[0;32m      4\u001b[0m         \u001b[0mdict_1\u001b[0m\u001b[1;33m[\u001b[0m\u001b[0mk\u001b[0m\u001b[1;33m]\u001b[0m \u001b[1;33m=\u001b[0m \u001b[0mv\u001b[0m\u001b[1;33m\u001b[0m\u001b[1;33m\u001b[0m\u001b[0m\n",
      "\u001b[1;31mValueError\u001b[0m: not enough values to unpack (expected 2, got 1)"
     ]
    }
   ],
   "source": [
    "dict_1 = {}\n",
    "for i in range(len(new)):\n",
    "    for k,v in new[i]:\n",
    "        dict_1[k] = v"
   ]
  },
  {
   "cell_type": "code",
   "execution_count": null,
   "metadata": {},
   "outputs": [],
   "source": [
    "verb_cooccs_surface = Counter()\n",
    "\n",
    "#\"cut the apple\", boil the broccoli etc. Only look at the right side form the verb.\n",
    "spansize = 3\n",
    "for row in method:\n",
    "    for i,w in enumerate(row):\n",
    "        if w.split(\"-\")[-1] == \"INGREDIENT\":\n",
    "           # span_range = list(range(max(i, 0), i)) # left side indices (range, then list so we can extend)\n",
    "            span_range.extend(range(i+1, min(i + spansize + 1, len(sentence)))) # extend by right side indices\n",
    "            for cw in [row[idx] for idx in span_range]:\n",
    "                verb_cooccs_surface[(w, cw)] += 1"
   ]
  },
  {
   "cell_type": "code",
   "execution_count": 34,
   "metadata": {},
   "outputs": [
    {
     "ename": "ZeroDivisionError",
     "evalue": "float division by zero",
     "output_type": "error",
     "traceback": [
      "\u001b[1;31m---------------------------------------------------------------------------\u001b[0m",
      "\u001b[1;31mZeroDivisionError\u001b[0m                         Traceback (most recent call last)",
      "\u001b[1;32m<ipython-input-34-2d6a82b8bdb9>\u001b[0m in \u001b[0;36m<module>\u001b[1;34m\u001b[0m\n\u001b[0;32m     23\u001b[0m \u001b[1;33m\u001b[0m\u001b[0m\n\u001b[0;32m     24\u001b[0m \u001b[1;32mfor\u001b[0m \u001b[0mk\u001b[0m\u001b[1;33m,\u001b[0m\u001b[0mv\u001b[0m \u001b[1;32min\u001b[0m \u001b[0mcooccs_surface\u001b[0m\u001b[1;33m.\u001b[0m\u001b[0mitems\u001b[0m\u001b[1;33m(\u001b[0m\u001b[1;33m)\u001b[0m\u001b[1;33m:\u001b[0m\u001b[1;33m\u001b[0m\u001b[1;33m\u001b[0m\u001b[0m\n\u001b[1;32m---> 25\u001b[1;33m     \u001b[0msppmi_surface\u001b[0m\u001b[1;33m[\u001b[0m\u001b[0mk\u001b[0m\u001b[1;33m]\u001b[0m \u001b[1;33m=\u001b[0m \u001b[0msppmi\u001b[0m\u001b[1;33m(\u001b[0m\u001b[0mv\u001b[0m\u001b[1;33m,\u001b[0m \u001b[0mlemmas_freq\u001b[0m\u001b[1;33m[\u001b[0m\u001b[0mk\u001b[0m\u001b[1;33m[\u001b[0m\u001b[1;36m0\u001b[0m\u001b[1;33m]\u001b[0m\u001b[1;33m]\u001b[0m\u001b[1;33m,\u001b[0m \u001b[0mlemmas_freq\u001b[0m\u001b[1;33m[\u001b[0m\u001b[0mk\u001b[0m\u001b[1;33m[\u001b[0m\u001b[1;36m1\u001b[0m\u001b[1;33m]\u001b[0m\u001b[1;33m]\u001b[0m\u001b[1;33m,\u001b[0m \u001b[0ms\u001b[0m\u001b[1;33m,\u001b[0m \u001b[0mN\u001b[0m\u001b[1;33m)\u001b[0m\u001b[1;33m\u001b[0m\u001b[1;33m\u001b[0m\u001b[0m\n\u001b[0m",
      "\u001b[1;32m<ipython-input-34-2d6a82b8bdb9>\u001b[0m in \u001b[0;36msppmi\u001b[1;34m(o_11, r_1, c_1, all_freqs_sum, n)\u001b[0m\n\u001b[0;32m     15\u001b[0m \u001b[1;32mdef\u001b[0m \u001b[0msppmi\u001b[0m\u001b[1;33m(\u001b[0m\u001b[0mo_11\u001b[0m\u001b[1;33m,\u001b[0m \u001b[0mr_1\u001b[0m\u001b[1;33m,\u001b[0m \u001b[0mc_1\u001b[0m\u001b[1;33m,\u001b[0m \u001b[0mall_freqs_sum\u001b[0m\u001b[1;33m,\u001b[0m \u001b[0mn\u001b[0m\u001b[1;33m)\u001b[0m\u001b[1;33m:\u001b[0m\u001b[1;33m\u001b[0m\u001b[1;33m\u001b[0m\u001b[0m\n\u001b[0;32m     16\u001b[0m     \u001b[1;34m\"\"\"Smoothed Positive Pointwise Mutual Information\"\"\"\u001b[0m\u001b[1;33m\u001b[0m\u001b[1;33m\u001b[0m\u001b[0m\n\u001b[1;32m---> 17\u001b[1;33m     \u001b[1;32mreturn\u001b[0m \u001b[0mppmi\u001b[0m\u001b[1;33m(\u001b[0m\u001b[0mo_11\u001b[0m\u001b[1;33m,\u001b[0m \u001b[0mr_1\u001b[0m\u001b[1;33m,\u001b[0m \u001b[1;33m(\u001b[0m\u001b[0mc_1\u001b[0m\u001b[1;33m**\u001b[0m\u001b[1;36m0.75\u001b[0m\u001b[1;33m)\u001b[0m\u001b[1;33m/\u001b[0m\u001b[0mall_freqs_sum\u001b[0m\u001b[1;33m,\u001b[0m \u001b[0mn\u001b[0m\u001b[1;33m)\u001b[0m\u001b[1;33m\u001b[0m\u001b[1;33m\u001b[0m\u001b[0m\n\u001b[0m\u001b[0;32m     18\u001b[0m \u001b[1;33m\u001b[0m\u001b[0m\n\u001b[0;32m     19\u001b[0m \u001b[0msppmi_surface\u001b[0m \u001b[1;33m=\u001b[0m \u001b[0mCounter\u001b[0m\u001b[1;33m(\u001b[0m\u001b[1;33m)\u001b[0m\u001b[1;33m\u001b[0m\u001b[1;33m\u001b[0m\u001b[0m\n",
      "\u001b[1;32m<ipython-input-34-2d6a82b8bdb9>\u001b[0m in \u001b[0;36mppmi\u001b[1;34m(o_11, r_1, c_1, n)\u001b[0m\n\u001b[0;32m     10\u001b[0m     \u001b[0mobserved\u001b[0m \u001b[1;33m=\u001b[0m \u001b[0mo_11\u001b[0m\u001b[1;33m\u001b[0m\u001b[1;33m\u001b[0m\u001b[0m\n\u001b[0;32m     11\u001b[0m     \u001b[0mexpected\u001b[0m \u001b[1;33m=\u001b[0m \u001b[1;33m(\u001b[0m\u001b[0mr_1\u001b[0m\u001b[1;33m*\u001b[0m\u001b[0mc_1\u001b[0m\u001b[1;33m)\u001b[0m\u001b[1;33m/\u001b[0m\u001b[0mn\u001b[0m\u001b[1;33m\u001b[0m\u001b[1;33m\u001b[0m\u001b[0m\n\u001b[1;32m---> 12\u001b[1;33m     \u001b[0mres\u001b[0m \u001b[1;33m=\u001b[0m \u001b[0mlog\u001b[0m\u001b[1;33m(\u001b[0m\u001b[0mobserved\u001b[0m\u001b[1;33m/\u001b[0m\u001b[0mexpected\u001b[0m\u001b[1;33m,\u001b[0m \u001b[1;36m2\u001b[0m\u001b[1;33m)\u001b[0m\u001b[1;33m\u001b[0m\u001b[1;33m\u001b[0m\u001b[0m\n\u001b[0m\u001b[0;32m     13\u001b[0m     \u001b[1;32mreturn\u001b[0m \u001b[0mmax\u001b[0m\u001b[1;33m(\u001b[0m\u001b[1;36m0\u001b[0m\u001b[1;33m,\u001b[0m \u001b[0mres\u001b[0m\u001b[1;33m)\u001b[0m\u001b[1;33m\u001b[0m\u001b[1;33m\u001b[0m\u001b[0m\n\u001b[0;32m     14\u001b[0m \u001b[1;33m\u001b[0m\u001b[0m\n",
      "\u001b[1;31mZeroDivisionError\u001b[0m: float division by zero"
     ]
    }
   ],
   "source": [
    "# vector representations \n",
    "\n",
    "from math import log\n",
    "\n",
    "lemmas_freq = Counter(chain(*Method))\n",
    "\n",
    "# Measure of choice - sppmi\n",
    "\n",
    "def ppmi(o_11, r_1, c_1,n):\n",
    "    \"\"\"Positive Pointwise Mutual Information (Church & Hanks, 1990)\"\"\"\n",
    "    observed = o_11\n",
    "    expected = (r_1*c_1)/n \n",
    "    res = log(observed/expected, 2)\n",
    "    return max(0, res)\n",
    "\n",
    "def sppmi(o_11, r_1, c_1, all_freqs_sum, n):\n",
    "    \"\"\"Smoothed Positive Pointwise Mutual Information\"\"\"\n",
    "    return ppmi(o_11, r_1, (c_1**0.75)/all_freqs_sum, n)\n",
    "\n",
    "sppmi_surface = Counter()\n",
    "\n",
    "N = sum(cooccs_surface.values())  # note that this is NOT the reduced dictionary\n",
    "s = sum([v**0.75 for v in lemmas_freq.values()]) # calculating Pa(c)\n",
    "\n",
    "for k,v in cooccs_surface.items():\n",
    "    sppmi_surface[k] = sppmi(v, lemmas_freq[k[0]], lemmas_freq[k[1]], s, N) "
   ]
  },
  {
   "cell_type": "code",
   "execution_count": null,
   "metadata": {},
   "outputs": [],
   "source": []
  }
 ],
 "metadata": {
  "kernelspec": {
   "display_name": "Python 3",
   "language": "python",
   "name": "python3"
  },
  "language_info": {
   "codemirror_mode": {
    "name": "ipython",
    "version": 3
   },
   "file_extension": ".py",
   "mimetype": "text/x-python",
   "name": "python",
   "nbconvert_exporter": "python",
   "pygments_lexer": "ipython3",
   "version": "3.7.9"
  },
  "toc": {
   "base_numbering": 1,
   "nav_menu": {},
   "number_sections": true,
   "sideBar": true,
   "skip_h1_title": false,
   "title_cell": "Table of Contents",
   "title_sidebar": "Contents",
   "toc_cell": false,
   "toc_position": {},
   "toc_section_display": true,
   "toc_window_display": false
  }
 },
 "nbformat": 4,
 "nbformat_minor": 4
}
