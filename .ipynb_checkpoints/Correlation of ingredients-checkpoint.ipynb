{
 "cells": [
  {
   "cell_type": "markdown",
   "metadata": {},
   "source": [
    "# Correlation of ingredients"
   ]
  },
  {
   "cell_type": "markdown",
   "metadata": {},
   "source": [
    "Objective: find the correlation between ingredients. Which occur together most often, and which do not?\n",
    "- Which ingredients appear most often? Make a word cloud. \n",
    "- Iterate throught the ingredient column in the recipe CSV and create a contextual co-occurence frequency table of ingredients"
   ]
  },
  {
   "cell_type": "code",
   "execution_count": 1,
   "metadata": {},
   "outputs": [
    {
     "data": {
      "text/plain": [
       "0    {'parsley', 'salt', 'pepper', 'tea', 'mushroom...\n",
       "1    {'paprika', 'parsley', 'water', 'rice', 'basil...\n",
       "2    {'fat', 'vegetable', 'apple', 'flour', 'broth'...\n",
       "3    {'fat', 'vegetable', 'apple', 'flour', 'broth'...\n",
       "4    {'water', 'redients', 'corn', 'oil', 'gravy', ...\n",
       "Name: INGREDIENTS, dtype: object"
      ]
     },
     "execution_count": 1,
     "metadata": {},
     "output_type": "execute_result"
    }
   ],
   "source": [
    "import pandas as pd\n",
    "#dataset 1 - vegetarian\n",
    "df = pd.read_csv('recipes_veg.csv')\n",
    "saved_veg = df['INGREDIENTS'] \n",
    "#dataset 3 - armed\n",
    "df = pd.read_csv('recipes_armed.csv')\n",
    "saved_armed = df['INGREDIENTS'] \n",
    "#dataset 4 - common\n",
    "df = pd.read_csv('recipes_common.csv')\n",
    "saved_common = df['INGREDIENTS'] \n",
    "\n",
    "frames = [saved_veg, saved_armed, saved_common]\n",
    "#creating one dataframe with the set of ingredients\n",
    "result = pd.concat(frames)\n",
    "result.head()"
   ]
  },
  {
   "cell_type": "code",
   "execution_count": 2,
   "metadata": {},
   "outputs": [],
   "source": [
    "#importing libraries\n",
    "from itertools import permutations\n",
    "from collections import Counter\n",
    "\n",
    "cooccs_surface = Counter()\n",
    "#contextual coocurrence\n",
    "for row in result:\n",
    "    for i,w in enumerate(row):\n",
    "        row = row.replace('}', \"\")\n",
    "        row = row.replace('{', \"\")\n",
    "        for w in row.split(','):\n",
    "            for cw in row.split(','):\n",
    "                if cw != w:\n",
    "                    cooccs_surface[(w, cw)] += 1\n",
    "    "
   ]
  },
  {
   "cell_type": "code",
   "execution_count": 3,
   "metadata": {},
   "outputs": [
    {
     "data": {
      "text/plain": [
       "[((\" 'water'\", \" 'oil'\"), 57113),\n",
       " ((\" 'oil'\", \" 'water'\"), 57113),\n",
       " ((\" 'water'\", \" 'salt'\"), 50616),\n",
       " ((\" 'salt'\", \" 'water'\"), 50616),\n",
       " ((\" 'salt'\", \" 'oil'\"), 45839),\n",
       " ((\" 'oil'\", \" 'salt'\"), 45839),\n",
       " ((\" 'water'\", \" 'pepper'\"), 44830),\n",
       " ((\" 'pepper'\", \" 'water'\"), 44830),\n",
       " ((\" 'pepper'\", \" 'oil'\"), 44136),\n",
       " ((\" 'oil'\", \" 'pepper'\"), 44136),\n",
       " ((\" 'pepper'\", \" 'onion'\"), 42319),\n",
       " ((\" 'onion'\", \" 'pepper'\"), 42319),\n",
       " ((\" 'oil'\", \" 'onion'\"), 40777),\n",
       " ((\" 'onion'\", \" 'oil'\"), 40777),\n",
       " ((\" 'water'\", \" 'onion'\"), 40290),\n",
       " ((\" 'onion'\", \" 'water'\"), 40290),\n",
       " ((\" 'water'\", \" 'ice'\"), 37509),\n",
       " ((\" 'ice'\", \" 'water'\"), 37509),\n",
       " ((\" 'salt'\", \" 'pepper'\"), 37411),\n",
       " ((\" 'pepper'\", \" 'salt'\"), 37411),\n",
       " ((\" 'ice'\", \" 'oil'\"), 36672),\n",
       " ((\" 'oil'\", \" 'ice'\"), 36672),\n",
       " ((\" 'salt'\", \" 'sugar'\"), 34791),\n",
       " ((\" 'sugar'\", \" 'salt'\"), 34791),\n",
       " ((\" 'ice'\", \" 'onion'\"), 34679),\n",
       " ((\" 'onion'\", \" 'ice'\"), 34679),\n",
       " ((\" 'flour'\", \" 'water'\"), 33761),\n",
       " ((\" 'water'\", \" 'flour'\"), 33761),\n",
       " ((\" 'ice'\", \" 'pepper'\"), 33461),\n",
       " ((\" 'pepper'\", \" 'ice'\"), 33461),\n",
       " ((\" 'salt'\", \" 'flour'\"), 33435),\n",
       " ((\" 'flour'\", \" 'salt'\"), 33435),\n",
       " ((\" 'water'\", \" 'sugar'\"), 33297),\n",
       " ((\" 'sugar'\", \" 'water'\"), 33297),\n",
       " ((\" 'salt'\", \" 'onion'\"), 31652),\n",
       " ((\" 'onion'\", \" 'salt'\"), 31652),\n",
       " ((\" 'dehydrated'\", \" 'onion'\"), 31040),\n",
       " ((\" 'onion'\", \" 'dehydrated'\"), 31040),\n",
       " ((\" 'dehydrated'\", \" 'pepper'\"), 30759),\n",
       " ((\" 'pepper'\", \" 'dehydrated'\"), 30759),\n",
       " ((\" 'dehydrated'\", \" 'water'\"), 30584),\n",
       " ((\" 'water'\", \" 'dehydrated'\"), 30584),\n",
       " ((\"'rain'\", \" 'water'\"), 30202),\n",
       " ((\" 'water'\", \"'rain'\"), 30202),\n",
       " ((\" 'flour'\", \" 'oil'\"), 30119),\n",
       " ((\" 'oil'\", \" 'flour'\"), 30119),\n",
       " ((\" 'salt'\", \" 'ice'\"), 29808),\n",
       " ((\" 'ice'\", \" 'salt'\"), 29808),\n",
       " ((\" 'oil'\", \" 'sugar'\"), 29455),\n",
       " ((\" 'sugar'\", \" 'oil'\"), 29455),\n",
       " ((\" 'dehydrated'\", \" 'oil'\"), 29035),\n",
       " ((\" 'oil'\", \" 'dehydrated'\"), 29035),\n",
       " ((\" 'tea'\", \" 'water'\"), 28476),\n",
       " ((\" 'water'\", \" 'tea'\"), 28476),\n",
       " ((\" 'flour'\", \" 'sugar'\"), 27745),\n",
       " ((\" 'sugar'\", \" 'flour'\"), 27745),\n",
       " ((\" 'water'\", \" 'cons'\"), 27515),\n",
       " ((\" 'cons'\", \" 'water'\"), 27515),\n",
       " ((\" 'onion'\", \" 'garlic'\"), 27439),\n",
       " ((\" 'garlic'\", \" 'onion'\"), 27439),\n",
       " ((\" 'water'\", \" 'shortening'\"), 27376),\n",
       " ((\" 'shortening'\", \" 'water'\"), 27376),\n",
       " ((\" 'pepper'\", \" 'garlic'\"), 27143),\n",
       " ((\" 'garlic'\", \" 'pepper'\"), 27143),\n",
       " ((\" 'water'\", \" 'garlic'\"), 27073),\n",
       " ((\" 'garlic'\", \" 'water'\"), 27073),\n",
       " ((\" 'salt'\", \" 'shortening'\"), 26997),\n",
       " ((\" 'shortening'\", \" 'salt'\"), 26997),\n",
       " ((\" 'oil'\", \" 'garlic'\"), 26510),\n",
       " ((\" 'garlic'\", \" 'oil'\"), 26510),\n",
       " ((\" 'tea'\", \" 'oil'\"), 26294),\n",
       " ((\" 'oil'\", \" 'tea'\"), 26294),\n",
       " ((\" 'oil'\", \" 'salad'\"), 26136),\n",
       " ((\" 'salad'\", \" 'oil'\"), 26136),\n",
       " ((\" 'water'\", \" 'milk'\"), 25857),\n",
       " ((\" 'milk'\", \" 'water'\"), 25857),\n",
       " ((\" 'shortening'\", \" 'flour'\"), 25677),\n",
       " ((\" 'flour'\", \" 'shortening'\"), 25677),\n",
       " ((\" 'salt'\", \" 'milk'\"), 25636),\n",
       " ((\" 'milk'\", \" 'salt'\"), 25636),\n",
       " ((\"'rain'\", \" 'oil'\"), 25073),\n",
       " ((\" 'oil'\", \"'rain'\"), 25073),\n",
       " ((\"'rain'\", \" 'salt'\"), 25005),\n",
       " ((\" 'salt'\", \"'rain'\"), 25005),\n",
       " ((\" 'oil'\", \" 'cons'\"), 24779),\n",
       " ((\" 'cons'\", \" 'oil'\"), 24779),\n",
       " ((\" 'salt'\", \" 'dehydrated'\"), 24475),\n",
       " ((\" 'dehydrated'\", \" 'salt'\"), 24475),\n",
       " ((\" 'milk'\", \" 'flour'\"), 24357),\n",
       " ((\" 'flour'\", \" 'milk'\"), 24357),\n",
       " ((\" 'fat'\", \" 'water'\"), 23744),\n",
       " ((\" 'water'\", \" 'fat'\"), 23744),\n",
       " ((\" 'oil'\", \" 'shortening'\"), 23472),\n",
       " ((\" 'shortening'\", \" 'oil'\"), 23472),\n",
       " ((\" 'water'\", \" 'juice'\"), 23240),\n",
       " ((\" 'juice'\", \" 'water'\"), 23240),\n",
       " ((\" 'salt'\", \" 'tea'\"), 23028),\n",
       " ((\" 'tea'\", \" 'salt'\"), 23028),\n",
       " ((\" 'water'\", \" 'salad'\"), 22893),\n",
       " ((\" 'salad'\", \" 'water'\"), 22893)]"
      ]
     },
     "execution_count": 3,
     "metadata": {},
     "output_type": "execute_result"
    }
   ],
   "source": [
    "cooccs_surface.most_common(100)"
   ]
  },
  {
   "cell_type": "markdown",
   "metadata": {},
   "source": [
    "# Correlation of verb with noun, what are the actions? "
   ]
  },
  {
   "cell_type": "code",
   "execution_count": 4,
   "metadata": {},
   "outputs": [
    {
     "data": {
      "text/plain": [
       "0    [('Pierce', 'NOUN'), ('top', 'NOUN'), ('of', '...\n",
       "1    [('In', 'ADP'), ('a', 'DET'), ('one', 'NUM'), ...\n",
       "2    [('Broth', 'DET'), ('for', 'ADP'), ('Boiling',...\n",
       "3    [('Broth', 'DET'), ('for', 'ADP'), ('Boiling',...\n",
       "4    [('In', 'ADP'), ('a', 'DET'), ('medium', 'NOUN...\n",
       "Name: METHOD, dtype: object"
      ]
     },
     "execution_count": 4,
     "metadata": {},
     "output_type": "execute_result"
    }
   ],
   "source": [
    "import pandas as pd\n",
    "#dataset 1 - vegetarian\n",
    "df = pd.read_csv('recipes_veg.csv')\n",
    "saved_veg = df['METHOD'] \n",
    "#dataset 3 - armed\n",
    "df = pd.read_csv('recipes_armed.csv')\n",
    "saved_armed = df['METHOD'] \n",
    "#dataset 4 - common\n",
    "df = pd.read_csv('recipes_common.csv')\n",
    "saved_common = df['METHOD'] \n",
    "\n",
    "frames = [saved_veg, saved_armed, saved_common]\n",
    "#creating one dataframe with the methods\n",
    "method = pd.concat(frames)\n",
    "method.head()"
   ]
  },
  {
   "cell_type": "code",
   "execution_count": 5,
   "metadata": {},
   "outputs": [
    {
     "ename": "IndexError",
     "evalue": "list index out of range",
     "output_type": "error",
     "traceback": [
      "\u001b[1;31m---------------------------------------------------------------------------\u001b[0m",
      "\u001b[1;31mIndexError\u001b[0m                                Traceback (most recent call last)",
      "\u001b[1;32m<ipython-input-5-c51a818a3a6c>\u001b[0m in \u001b[0;36m<module>\u001b[1;34m\u001b[0m\n\u001b[0;32m     11\u001b[0m             \u001b[0mspan_range\u001b[0m \u001b[1;33m=\u001b[0m \u001b[0mlist\u001b[0m\u001b[1;33m(\u001b[0m\u001b[0mrange\u001b[0m\u001b[1;33m(\u001b[0m\u001b[0mmax\u001b[0m\u001b[1;33m(\u001b[0m\u001b[0mi\u001b[0m\u001b[1;33m,\u001b[0m \u001b[1;36m0\u001b[0m\u001b[1;33m)\u001b[0m\u001b[1;33m,\u001b[0m \u001b[0mi\u001b[0m\u001b[1;33m)\u001b[0m\u001b[1;33m)\u001b[0m \u001b[1;31m# left side indices (range, then list so we can extend)\u001b[0m\u001b[1;33m\u001b[0m\u001b[1;33m\u001b[0m\u001b[0m\n\u001b[0;32m     12\u001b[0m             \u001b[0mspan_range\u001b[0m\u001b[1;33m.\u001b[0m\u001b[0mextend\u001b[0m\u001b[1;33m(\u001b[0m\u001b[0mrange\u001b[0m\u001b[1;33m(\u001b[0m\u001b[0mi\u001b[0m\u001b[1;33m+\u001b[0m\u001b[1;36m1\u001b[0m\u001b[1;33m,\u001b[0m \u001b[0mmin\u001b[0m\u001b[1;33m(\u001b[0m\u001b[0mi\u001b[0m \u001b[1;33m+\u001b[0m \u001b[0mspansize\u001b[0m \u001b[1;33m+\u001b[0m \u001b[1;36m1\u001b[0m\u001b[1;33m,\u001b[0m \u001b[0mlen\u001b[0m\u001b[1;33m(\u001b[0m\u001b[0mw\u001b[0m\u001b[1;33m)\u001b[0m\u001b[1;33m)\u001b[0m\u001b[1;33m)\u001b[0m\u001b[1;33m)\u001b[0m \u001b[1;31m# extend by right side indices\u001b[0m\u001b[1;33m\u001b[0m\u001b[1;33m\u001b[0m\u001b[0m\n\u001b[1;32m---> 13\u001b[1;33m             \u001b[1;32mfor\u001b[0m \u001b[0mcw\u001b[0m \u001b[1;32min\u001b[0m \u001b[1;33m[\u001b[0m\u001b[0mrow\u001b[0m\u001b[1;33m[\u001b[0m\u001b[0midx\u001b[0m\u001b[1;33m]\u001b[0m \u001b[1;32mfor\u001b[0m \u001b[0midx\u001b[0m \u001b[1;32min\u001b[0m \u001b[0mspan_range\u001b[0m\u001b[1;33m]\u001b[0m\u001b[1;33m:\u001b[0m\u001b[1;33m\u001b[0m\u001b[1;33m\u001b[0m\u001b[0m\n\u001b[0m\u001b[0;32m     14\u001b[0m                 \u001b[1;32mif\u001b[0m \u001b[1;34m'INGREDIENT'\u001b[0m\u001b[1;32min\u001b[0m \u001b[0mcw\u001b[0m\u001b[1;33m:\u001b[0m\u001b[1;33m\u001b[0m\u001b[1;33m\u001b[0m\u001b[0m\n\u001b[0;32m     15\u001b[0m                     \u001b[0mverb_cooccs_surface\u001b[0m\u001b[1;33m[\u001b[0m\u001b[1;33m(\u001b[0m\u001b[0mw\u001b[0m\u001b[1;33m,\u001b[0m \u001b[0mcw\u001b[0m\u001b[1;33m)\u001b[0m\u001b[1;33m]\u001b[0m \u001b[1;33m+=\u001b[0m \u001b[1;36m1\u001b[0m\u001b[1;33m\u001b[0m\u001b[1;33m\u001b[0m\u001b[0m\n",
      "\u001b[1;32m<ipython-input-5-c51a818a3a6c>\u001b[0m in \u001b[0;36m<listcomp>\u001b[1;34m(.0)\u001b[0m\n\u001b[0;32m     11\u001b[0m             \u001b[0mspan_range\u001b[0m \u001b[1;33m=\u001b[0m \u001b[0mlist\u001b[0m\u001b[1;33m(\u001b[0m\u001b[0mrange\u001b[0m\u001b[1;33m(\u001b[0m\u001b[0mmax\u001b[0m\u001b[1;33m(\u001b[0m\u001b[0mi\u001b[0m\u001b[1;33m,\u001b[0m \u001b[1;36m0\u001b[0m\u001b[1;33m)\u001b[0m\u001b[1;33m,\u001b[0m \u001b[0mi\u001b[0m\u001b[1;33m)\u001b[0m\u001b[1;33m)\u001b[0m \u001b[1;31m# left side indices (range, then list so we can extend)\u001b[0m\u001b[1;33m\u001b[0m\u001b[1;33m\u001b[0m\u001b[0m\n\u001b[0;32m     12\u001b[0m             \u001b[0mspan_range\u001b[0m\u001b[1;33m.\u001b[0m\u001b[0mextend\u001b[0m\u001b[1;33m(\u001b[0m\u001b[0mrange\u001b[0m\u001b[1;33m(\u001b[0m\u001b[0mi\u001b[0m\u001b[1;33m+\u001b[0m\u001b[1;36m1\u001b[0m\u001b[1;33m,\u001b[0m \u001b[0mmin\u001b[0m\u001b[1;33m(\u001b[0m\u001b[0mi\u001b[0m \u001b[1;33m+\u001b[0m \u001b[0mspansize\u001b[0m \u001b[1;33m+\u001b[0m \u001b[1;36m1\u001b[0m\u001b[1;33m,\u001b[0m \u001b[0mlen\u001b[0m\u001b[1;33m(\u001b[0m\u001b[0mw\u001b[0m\u001b[1;33m)\u001b[0m\u001b[1;33m)\u001b[0m\u001b[1;33m)\u001b[0m\u001b[1;33m)\u001b[0m \u001b[1;31m# extend by right side indices\u001b[0m\u001b[1;33m\u001b[0m\u001b[1;33m\u001b[0m\u001b[0m\n\u001b[1;32m---> 13\u001b[1;33m             \u001b[1;32mfor\u001b[0m \u001b[0mcw\u001b[0m \u001b[1;32min\u001b[0m \u001b[1;33m[\u001b[0m\u001b[0mrow\u001b[0m\u001b[1;33m[\u001b[0m\u001b[0midx\u001b[0m\u001b[1;33m]\u001b[0m \u001b[1;32mfor\u001b[0m \u001b[0midx\u001b[0m \u001b[1;32min\u001b[0m \u001b[0mspan_range\u001b[0m\u001b[1;33m]\u001b[0m\u001b[1;33m:\u001b[0m\u001b[1;33m\u001b[0m\u001b[1;33m\u001b[0m\u001b[0m\n\u001b[0m\u001b[0;32m     14\u001b[0m                 \u001b[1;32mif\u001b[0m \u001b[1;34m'INGREDIENT'\u001b[0m\u001b[1;32min\u001b[0m \u001b[0mcw\u001b[0m\u001b[1;33m:\u001b[0m\u001b[1;33m\u001b[0m\u001b[1;33m\u001b[0m\u001b[0m\n\u001b[0;32m     15\u001b[0m                     \u001b[0mverb_cooccs_surface\u001b[0m\u001b[1;33m[\u001b[0m\u001b[1;33m(\u001b[0m\u001b[0mw\u001b[0m\u001b[1;33m,\u001b[0m \u001b[0mcw\u001b[0m\u001b[1;33m)\u001b[0m\u001b[1;33m]\u001b[0m \u001b[1;33m+=\u001b[0m \u001b[1;36m1\u001b[0m\u001b[1;33m\u001b[0m\u001b[1;33m\u001b[0m\u001b[0m\n",
      "\u001b[1;31mIndexError\u001b[0m: list index out of range"
     ]
    }
   ],
   "source": [
    "from collections import Counter\n",
    "verb_cooccs_surface = Counter()\n",
    "#\"cut the apple\", boil the broccoli etc. Only look at the right side form the verb.\n",
    "spansize = 2\n",
    "for row in method:\n",
    "    row = row.split(\"),\")\n",
    "    for i,w in enumerate(row):\n",
    "        w = w.replace('(', \"\")\n",
    "        w = w.replace('[', \"\")\n",
    "        if \"VERB\" in w:\n",
    "            span_range = list(range(max(i, 0), i)) # left side indices (range, then list so we can extend)\n",
    "            span_range.extend(range(i+1, min(i + spansize + 1, len(w)))) # extend by right side indices\n",
    "            for cw in [row[idx] for idx in span_range]:\n",
    "                if 'INGREDIENT'in cw:\n",
    "                    verb_cooccs_surface[(w, cw)] += 1\n",
    "                \n",
    "                "
   ]
  },
  {
   "cell_type": "code",
   "execution_count": 6,
   "metadata": {},
   "outputs": [
    {
     "data": {
      "text/plain": [
       "[((\" 'boiling', 'VERB'\", \" ('water', 'INGREDIENT'\"), 30),\n",
       " ((\" 'melted', 'VERB'\", \" ('shortening', 'INGREDIENT'\"), 28),\n",
       " ((\" 'running', 'VERB'\", \" ('water', 'INGREDIENT'\"), 21),\n",
       " ((\" 'melted', 'VERB'\", \" ('salad', 'INGREDIENT'\"), 10),\n",
       " ((\" 'Remove', 'VERB'\", \" ('fat', 'INGREDIENT'\"), 6),\n",
       " ((\" 'removing', 'VERB'\", \" ('beans', 'INGREDIENT'\"), 5),\n",
       " ((\" 'discolored', 'VERB'\", \" ('beans', 'INGREDIENT'\"), 5),\n",
       " ((\" 'corned', 'VERB'\", \" ('beef', 'INGREDIENT'\"), 5),\n",
       " ((\" 'substituted', 'VERB'\", \" ('meat', 'INGREDIENT'\"), 5),\n",
       " ((\" 'crushed', 'VERB'\", \" ('oregano', 'INGREDIENT'\"), 5),\n",
       " ((\" 'crushed', 'VERB'\", \" ('basil', 'INGREDIENT'\"), 4),\n",
       " ((\" 'melted', 'VERB'\", \" ('butter', 'INGREDIENT'\"), 4),\n",
       " ((\" 'serving', 'VERB'\", \" ('size', 'INGREDIENT'\"), 4),\n",
       " ((\" 'diced', 'VERB'\", \" ('onion', 'INGREDIENT'\"), 3),\n",
       " ((\"'Blend', 'VERB'\", \" ('sugar', 'INGREDIENT'\"), 3),\n",
       " ((\" 'Add', 'VERB'\", \" ('water', 'INGREDIENT'\"), 3),\n",
       " ((\" 'Blend', 'VERB'\", \" ('shortening', 'INGREDIENT'\"), 3),\n",
       " ((\" 'diced', 'VERB'\", \" ('beef', 'INGREDIENT'\"), 3),\n",
       " ((\"'Add', 'VERB'\", \" ('macaroni', 'INGREDIENT'\"), 3),\n",
       " ((\" 'sifted', 'VERB'\", \" ('flour', 'INGREDIENT'\"), 3),\n",
       " ((\" 'Add', 'VERB'\", \" ('juice', 'INGREDIENT'\"), 3),\n",
       " ((\" 'Using', 'VERB'\", \" ('water', 'INGREDIENT'\"), 3),\n",
       " ((\" 'Tear', 'VERB'\", \" ('lettuce', 'INGREDIENT'\"), 3),\n",
       " ((\" 'grated', 'VERB'\", \" ('lemon', 'INGREDIENT'\"), 2),\n",
       " ((\"'Bring', 'VERB'\", \" ('water', 'INGREDIENT'\"), 2),\n",
       " ((\" 'using', 'VERB'\", \" ('seaweed', 'INGREDIENT'\"), 2),\n",
       " ((\" 'minced', 'VERB'\", \" ('ginger', 'INGREDIENT'\"), 2),\n",
       " ((\" 'peeled', 'VERB'\", \" ('ginger', 'INGREDIENT'\"), 2),\n",
       " ((\" 'Blend', 'VERB'\", \" ('milk', 'INGREDIENT'\"), 2),\n",
       " ((\" 'diced', 'VERB'\", \" ('celery', 'INGREDIENT'\"), 2),\n",
       " ((\" 'Add', 'VERB'\", \" ('tofu', 'INGREDIENT'\"), 2),\n",
       " ((\"'Blend', 'VERB'\", \" ('shortening', 'INGREDIENT'\"), 2),\n",
       " ((\" 'Add', 'VERB'\", \" ('garlic', 'INGREDIENT'\"), 2),\n",
       " ((\" 'shredded', 'VERB'\", \" ('cabbage', 'INGREDIENT'\"), 2),\n",
       " ((\" 'diced', 'VERB'\", \" ('pork', 'INGREDIENT'\"), 2),\n",
       " ((\"'Blend', 'VERB'\", \" ('salad', 'INGREDIENT'\"), 2),\n",
       " ((\"'Blend', 'VERB'\", \" ('oil', 'INGREDIENT'\"), 2),\n",
       " ((\" 'quartered', 'VERB'\", \" ('water', 'INGREDIENT'\"), 2),\n",
       " ((\" 'breaded', 'VERB'\", \" ('fish', 'INGREDIENT'\"), 2),\n",
       " ((\"'Add', 'VERB'\", \" ('salt', 'INGREDIENT'\"), 2),\n",
       " ((\" 'using', 'VERB'\", \" ('water', 'INGREDIENT'\"), 2),\n",
       " ((\" 'salted', 'VERB'\", \" ('water', 'INGREDIENT'\"), 2),\n",
       " ((\"'Using', 'VERB'\", \" ('water', 'INGREDIENT'\"), 2),\n",
       " ((\" 'Add', 'VERB'\", \" ('yogurt', 'INGREDIENT'\"), 2),\n",
       " ((\" 'Add', 'VERB'\", \" ('rice', 'INGREDIENT'\"), 1),\n",
       " ((\" 'Blend', 'VERB'\", \" ('limejuice', 'INGREDIENT'\"), 1),\n",
       " ((\"'Put', 'VERB'\", \" ('water', 'INGREDIENT'\"), 1),\n",
       " ((\" 'Blend', 'VERB'\", \" ('tofu', 'INGREDIENT'\"), 1),\n",
       " ((\" 'minced', 'VERB'\", \" ('garlic', 'INGREDIENT'\"), 1),\n",
       " ((\" 'Remove', 'VERB'\", \" ('kale', 'INGREDIENT'\"), 1),\n",
       " ((\"'Bring', 'VERB'\", \" ('soysauce', 'INGREDIENT'\"), 1),\n",
       " ((\"'Bring', 'VERB'\", \" ('vegetable', 'INGREDIENT'\"), 1),\n",
       " ((\" 'sliced', 'VERB'\", \" ('ginger', 'INGREDIENT'\"), 1),\n",
       " ((\" 'sliced', 'VERB'\", \" ('root', 'INGREDIENT'\"), 1),\n",
       " ((\" 'drained', 'VERB'\", \" ('tofu', 'INGREDIENT'\"), 1),\n",
       " ((\" 'grated', 'VERB'\", \" ('carrot', 'INGREDIENT'\"), 1),\n",
       " ((\" 'Remove', 'VERB'\", \" ('tofu', 'INGREDIENT'\"), 1),\n",
       " ((\" 'drained', 'VERB'\", \" ('liquid', 'INGREDIENT'\"), 1),\n",
       " ((\" 'candied', 'VERB'\", \" ('apple', 'INGREDIENT'\"), 1),\n",
       " ((\" 'canned', 'VERB'\", \" ('bacon', 'INGREDIENT'\"), 1),\n",
       " ((\" 'softened', 'VERB'\", \" ('cream', 'INGREDIENT'\"), 1),\n",
       " ((\" 'softened', 'VERB'\", \" ('cheese', 'INGREDIENT'\"), 1),\n",
       " ((\" 'Blend', 'VERB'\", \" ('water', 'INGREDIENT'\"), 1),\n",
       " ((\" 'done', 'VERB'\", \" ('fat', 'INGREDIENT'\"), 1),\n",
       " ((\" 'diced', 'VERB'\", \" ('garlic', 'INGREDIENT'\"), 1),\n",
       " ((\"'Blend', 'VERB'\", \" ('flour', 'INGREDIENT'\"), 1),\n",
       " ((\" 'add', 'VERB'\", \" ('vinegar', 'INGREDIENT'\"), 1),\n",
       " ((\" 'Add', 'VERB'\", \" ('broccoli', 'INGREDIENT'\"), 1),\n",
       " ((\" 'Add', 'VERB'\", \" ('cabbage', 'INGREDIENT'\"), 1),\n",
       " ((\" 'Cake', 'VERB'\", \" ('salad', 'INGREDIENT'\"), 1),\n",
       " ((\" 'add', 'VERB'\", \" ('oil', 'INGREDIENT'\"), 1),\n",
       " ((\"'Add', 'VERB'\", \" ('cauliflower', 'INGREDIENT'\"), 1),\n",
       " ((\" 'softened', 'VERB'\", \" ('butter', 'INGREDIENT'\"), 1),\n",
       " ((\" 'breaded', 'VERB'\", \" ('clam', 'INGREDIENT'\"), 1),\n",
       " ((\"'Make', 'VERB'\", \" ('water', 'INGREDIENT'\"), 1),\n",
       " ((\"'Add', 'VERB'\", \" ('coffee', 'INGREDIENT'\"), 1),\n",
       " ((\" 'Add', 'VERB'\", \" ('ginger', 'INGREDIENT'\"), 1),\n",
       " ((\" 'Add', 'VERB'\", \" ('cinnamon', 'INGREDIENT'\"), 1),\n",
       " ((\" 'shredded', 'VERB'\", \" ('crab', 'INGREDIENT'\"), 1),\n",
       " ((\" 'shredded', 'VERB'\", \" ('meat', 'INGREDIENT'\"), 1),\n",
       " ((\" 'Dressing', 'VERB'\", \" ('butter', 'INGREDIENT'\"), 1),\n",
       " ((\" 'Add', 'VERB'\", \" ('flour', 'INGREDIENT'\"), 1),\n",
       " ((\"'Add', 'VERB'\", \" ('broccoli', 'INGREDIENT'\"), 1),\n",
       " ((\"'Add', 'VERB'\", \" ('carrot', 'INGREDIENT'\"), 1),\n",
       " ((\" 'sliced', 'VERB'\", \" ('liver', 'INGREDIENT'\"), 1),\n",
       " ((\" 'according', 'VERB'\", \" ('directions', 'INGREDIENT'\"), 1),\n",
       " ((\" 'Add', 'VERB'\", \" ('milk', 'INGREDIENT'\"), 1),\n",
       " ((\"'sliced', 'VERB'\", \" ('olives', 'INGREDIENT'\"), 1),\n",
       " ((\" 'drained', 'VERB'\", \" ('olives', 'INGREDIENT'\"), 1),\n",
       " ((\" 'tempered', 'VERB'\", \" ('turkey', 'INGREDIENT'\"), 1),\n",
       " ((\" 'netted', 'VERB'\", \" ('turkey', 'INGREDIENT'\"), 1),\n",
       " ((\"'Trim', 'VERB'\", \" ('fat', 'INGREDIENT'\"), 1),\n",
       " ((\" 'sifted', 'VERB'\", \" ('bakingpowder', 'INGREDIENT'\"), 1),\n",
       " ((\" 'crushed', 'VERB'\", \" ('paprika', 'INGREDIENT'\"), 1),\n",
       " ((\" 'canned', 'VERB'\", \" ('meat', 'INGREDIENT'\"), 1),\n",
       " ((\" 'add', 'VERB'\", \" ('bran', 'INGREDIENT'\"), 1),\n",
       " ((\" 'Blend', 'VERB'\", \" ('salad', 'INGREDIENT'\"), 1),\n",
       " ((\" 'Blend', 'VERB'\", \" ('oil', 'INGREDIENT'\"), 1),\n",
       " ((\" 'powdered', 'VERB'\", \" ('milk', 'INGREDIENT'\"), 1),\n",
       " ((\"'Prepare', 'VERB'\", \" ('crust', 'INGREDIENT'\"), 1)]"
      ]
     },
     "execution_count": 6,
     "metadata": {},
     "output_type": "execute_result"
    }
   ],
   "source": [
    "verb_cooccs_surface.most_common(100)"
   ]
  },
  {
   "cell_type": "code",
   "execution_count": 7,
   "metadata": {},
   "outputs": [],
   "source": [
    "import helpers as hp \n",
    "\n",
    "hp.dump(cooccs_surface, \"Cococcs of ingredients\")\n",
    "hp.dump(verb_cooccs_surface, \"Cococcs of ingredients vs verbs\")"
   ]
  },
  {
   "cell_type": "code",
   "execution_count": null,
   "metadata": {},
   "outputs": [],
   "source": []
  }
 ],
 "metadata": {
  "kernelspec": {
   "display_name": "Python 3",
   "language": "python",
   "name": "python3"
  },
  "language_info": {
   "codemirror_mode": {
    "name": "ipython",
    "version": 3
   },
   "file_extension": ".py",
   "mimetype": "text/x-python",
   "name": "python",
   "nbconvert_exporter": "python",
   "pygments_lexer": "ipython3",
   "version": "3.7.9"
  },
  "toc": {
   "base_numbering": 1,
   "nav_menu": {},
   "number_sections": true,
   "sideBar": true,
   "skip_h1_title": false,
   "title_cell": "Table of Contents",
   "title_sidebar": "Contents",
   "toc_cell": false,
   "toc_position": {},
   "toc_section_display": true,
   "toc_window_display": false
  }
 },
 "nbformat": 4,
 "nbformat_minor": 4
}
