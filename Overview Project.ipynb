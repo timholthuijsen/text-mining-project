{
 "cells": [
  {
   "cell_type": "markdown",
   "metadata": {},
   "source": [
    "# Overview Project"
   ]
  },
  {
   "cell_type": "markdown",
   "metadata": {},
   "source": [
    "## 1. Preprocessing\n"
   ]
  },
  {
   "cell_type": "markdown",
   "metadata": {},
   "source": [
    "### 1.1 Data Cleaning"
   ]
  },
  {
   "cell_type": "markdown",
   "metadata": {},
   "source": [
    "We need to distinguish between nouns and specific nounds that denote ingredients before applying co-occurrences. We will need to focus on the following categories. \n",
    "1. **Ingredients** - nouns\n",
    "2. **Cooking actions** - verbs\n",
    "3. **Portions** - numbers\n",
    "4. **Temperature** - a number followed by f : We will standardize the unit of measurement from lb/oz to kg/grams.\n",
    "\n",
    "Instructions include:\n",
    "1. **Yield** (X servings)\n",
    "2. **Each portion**\n",
    "3. **Cook time**\n",
    "3. **Pan size**\n",
    "4. **Temperature** (X F.)\n",
    "5. **Method**\n",
    "6. **Variations** : decide to ignore variations?\n",
    "\n",
    "### Creating a CSV of recipes\n",
    "Each recipe starts with EACH PORTION, split the text accordingly\n",
    "\n",
    "All recipe databases but \"CommonRecipes.exl\" include steps denoted as STEP nr:, we should transform the steps in this database to this format.  "
   ]
  },
  {
   "cell_type": "markdown",
   "metadata": {},
   "source": [
    "### Extracting ingredients \n",
    "\n",
    "### Ingredient frequency per recipe\n",
    "Making a word clound of ingredients\n",
    "\n",
    "### Clustering "
   ]
  },
  {
   "cell_type": "markdown",
   "metadata": {},
   "source": [
    "### 1.2 Natural Language Processing"
   ]
  },
  {
   "cell_type": "code",
   "execution_count": null,
   "metadata": {},
   "outputs": [],
   "source": []
  }
 ],
 "metadata": {
  "kernelspec": {
   "display_name": "Python 3",
   "language": "python",
   "name": "python3"
  },
  "language_info": {
   "codemirror_mode": {
    "name": "ipython",
    "version": 3
   },
   "file_extension": ".py",
   "mimetype": "text/x-python",
   "name": "python",
   "nbconvert_exporter": "python",
   "pygments_lexer": "ipython3",
   "version": "3.8.5"
  }
 },
 "nbformat": 4,
 "nbformat_minor": 4
}
