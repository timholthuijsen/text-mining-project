{
 "cells": [
  {
   "cell_type": "markdown",
   "metadata": {},
   "source": [
    "# Overview Project"
   ]
  },
  {
   "cell_type": "markdown",
   "metadata": {},
   "source": [
    "## 1. Preprocessing\n"
   ]
  },
  {
   "cell_type": "markdown",
   "metadata": {},
   "source": [
    "### 1.1 Data Cleaning"
   ]
  },
  {
   "cell_type": "markdown",
   "metadata": {},
   "source": [
    "We need to distinguish between nouns and specific nounds that denote ingredients before applying co-occurrences. We will need to focus on the following categories. \n",
    "1. **Ingredients** - nouns\n",
    "2. **Cooking actions** - verbs\n",
    "3. **Portions** - numbers\n",
    "4. **Temperature** - a number followed by f : We will standardize the unit of measurement from lb/oz to kg/grams.\n",
    "\n",
    "Features:\n",
    "1. **Yield** (X servings)\n",
    "2. **Each portion**\n",
    "3. **Cook time**\n",
    "3. **Pan size**\n",
    "4. **Temperature** (X F.)\n",
    "5. **Method**\n",
    "6. **Variations** : decide to ignore variations?\n",
    "7. **Utensils**\n",
    "\n",
    "### Creating a CSV of recipes\n",
    "File: **Preprocessing - separating recipes**\n",
    "\n",
    "Each recipe starts with EACH PORTION, split the text accordingly. We extract the text under the subheadings (e.g. TEMPERATURE)\n",
    "  "
   ]
  },
  {
   "cell_type": "markdown",
   "metadata": {},
   "source": [
    "### Extracting ingredients \n",
    "From a database of ingredient information we have extracted only the names of the ingredients and put them in a list. \n",
    "We will check if the method contains elements from this list, and create a list of ingredients for each recipe. \n",
    "\n",
    "### Ingredient frequency per recipe\n",
    "Making a word clound of ingredients.\n",
    "\n",
    "### Clustering "
   ]
  },
  {
   "cell_type": "markdown",
   "metadata": {},
   "source": [
    "### 1.2 Natural Language Processing"
   ]
  },
  {
   "cell_type": "markdown",
   "metadata": {},
   "source": [
    "### POS tagging and Lemmatizing the method section\n",
    "#### The tagger tags (ingredient-nouns) separately"
   ]
  },
  {
   "cell_type": "markdown",
   "metadata": {},
   "source": [
    "- Extracting the verbs in the method\n",
    "- No vowels can indicate a unit (e.g. tbsp, ts)\n",
    "- A word ending with -ed, can indicate the state (e.g. sliced, chopped)\n",
    "- Is the word contained in the list of ingredients?\n"
   ]
  },
  {
   "cell_type": "code",
   "execution_count": null,
   "metadata": {},
   "outputs": [],
   "source": []
  }
 ],
 "metadata": {
  "kernelspec": {
   "display_name": "Python 3",
   "language": "python",
   "name": "python3"
  },
  "language_info": {
   "codemirror_mode": {
    "name": "ipython",
    "version": 3
   },
   "file_extension": ".py",
   "mimetype": "text/x-python",
   "name": "python",
   "nbconvert_exporter": "python",
   "pygments_lexer": "ipython3",
   "version": "3.8.5"
  }
 },
 "nbformat": 4,
 "nbformat_minor": 4
}
