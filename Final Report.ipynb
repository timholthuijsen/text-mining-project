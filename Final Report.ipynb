%
% File
acl2014.tex
%
% Contact: g.colavizza @ uva.nl
% %
% % Based
on
the
style
files
for ACL - 2013, which were, in turn,
% % Based
on
the
style
files
for ACL - 2012, which were, in turn,
% % based
on
the
style
files
for ACL - 2011, which were, in turn,
% % based
on
the
style
files
for ACL - 2010, which were, in turn,
% % based
on
the
style
files
for ACL - IJCNLP - 2009, which were, in turn,
% % based
on
the
style
files
for EACL - 2009 and IJCNLP - 2008...

% % Based
on
the
style
files
for EACL 2006 by
% % e.agirre @ ehu.es or Sergi.Balari @ uab.es
% % and that
of
ACL
0
8
by
Joakim
Nivre and Noah
Smith

\documentclass[11
pt]{article}
% \usepackage
{acl2014}
\usepackage
{times}
\usepackage
{url}
\usepackage
{latexsym}
\usepackage
{blindtext}
\usepackage
{multicol}

% \setlength\titlebox
{5
cm}

% You
can
expand
the
titlebox if you
need
extra
space
% to
show
all
the
authors.Please
do
not make
the
titlebox
% smaller
than
5
cm(the
original
size); we
will
check
this
% in the
camera - ready
version and ask
you
to
change
it
back.


\title
{Recipe
Generator}

\author
{Berke
Filiz \ \
    {\tt
email @ domain} \\\And
Yuval
Goren \ \
    {\tt
email @ domain} \\\And
Annelouise
de
Boer \ \
    {\tt
annelouisedeboer @ hotmail.com} \\}

\date
{}

\begin
{document}
\maketitle
\begin
{abstract}
The
purpose
of
this
study is develop
a
method
to
generate
recipes
given
a
few
ingredients
using
text
mining.The
model is trained
on
data
of
cooking
recipe
websites.


\end
{abstract}







\begin
{multicols}
{2}
\section
{Introduction}

To
combat
food
waste and inspire
people
with recipe ideas we thought of creating a recipe generator.The algorithm will train on a database of existing food recipes.The user will input the ingredients that he / she has left in their fridge.Accordingly, the recipe generator will generate a recipe with these ingredients.Possibly, dietary preferences such as vegetarianism, gluten-free or similar can be incorporated.The model will be trained on a recipe database, and accordingly learn combinations and portions of ingredients that work well together.
\end
{multicols}

\begin
{multicols}
{2}
\section
{Data
collection}
- A
database
containing
1000
ingredients. \ \
    - Vegetarian
recipes\ \
    - Armed
Forces
recipes\ \
    - Common
recipes\ \
 \
    \end
{multicols}

\begin
{multicols}
{2}
\section
{Dataset
description}
include
summary
statistics.
\subsection
{Data
preprocessing - separating
recipes}
Initially
the
data
was
one
chunk
of
unseparated
text.As
each
recipe
started
with the the words "EACH PORTION" each dataset was split at the capitalized word "EACH".Afterwards, subsections from the recipes were subtracted and stored as columns in a separate CSV file, subsections include "EACH PORTION", "TEMPERATURE", "METHODstr", "METHOD", "NOTE", "CONTAINS", "INGREDIENTS".
.\\ The
method
was
turned
into
a
string and stored
under
"METHODstr".If
the
string
contained
an
ingredient
form
the
list
of
ingredients, the
ingredient
was
stored in "CONTAINS".For
ingredients
containing
spacing, tokening
the
text
was
an
issue(e.g.
"olive oil", would
come
out as "olive" and "oil" in the
ingredient
list.) Therefore,
for ingredients containing spacing, the space as removed.("olive oil" to "oliveoil") The tokenizer used was...
The
tokenized
method
section
was
tagged
with a POS-tagger.(explain which on this is -> berke's first file) The POS-tag for words contained in the list of ingredients was changed from "NOUN" to "INGREDIENT".

The set of element in the "CONTAINS" section was stored under "INGREDIENTS" to remove repetition of ingredients in the ingredient list.

\subsection{Data preprocessing - method}
We needed to distinguish between ingredients and other nouns before applying co-occurences.

Manually some words have been removed from the recipe list.As we used the function "contain", which checks if a substring is contained in a string, small substrings interfered with the ingredient extraction.(e.g "pea" is contained in "peacefully" ) Also, colours were removed as they seemed to interfere with ingredient extraction as they more often described how to prepare the food instead of the ingredient itself.(e.g stir until brown.) After checking the list of ingredients of length less than 3, strings containing less than 3 characters have been removed.Most words were gibberish, but some have been saved  (e.g."oil", "egg").
\end{multicols}



\begin{multicols}{2}
\section{Method}
- Math and description of main algorithms
\end{multicols}

\begin{multicols}{2}
\subsection{Co-occurences}
In order to find correlation between ingredients (per recipe), we itated through the ingredient column in the recipes csv and created a contextual co-occurence frequency table of ingredients.A counter saved ingredient pairs. \ \
        \ \
        In order to find correlation between an ingredient and verb, we looked at the POS-tagged method focusing on the tag "VERB".For words in the spansize two the for loop added ingredient-verb pairs to the counter.In order to do this, we filtered for the POS-tag "INGREDIENT".
\subsection{LSTM}
We used an LSTM Recurrent Neural Network for text generation. \ \
        \ \
        - why did you decide to use this method?
\end{multicols}

\begin{multicols}{2}
\section{Results}
\subsection{What recipe can we make with the ingredients we have in our fridge?}
Our findings are..
\subsection{What ingredients co-appear most often?}
Table 1. Ingredient contextual co-occurences.
\subsection{What verb and ingredient co-appear most often?}
Table 2.
Verb-ingredient co-occurences, spansize 2.

\end{multicols}

\subsection{Contribution}
Berke:\ \
    Yuval:\ \
    AnneLouise: Prepared
ingredient
list, preprocessing
of
recipes, co - occurences

\begin
{thebibliography}
{}
\bibitem[\protect\citename
{Aho and Ullman}
1972]{Aho: 72}
Alfred
~V.Aho and Jeffrey
~D.Ullman.
\newblock
1972.
\newblock
{\em
The
Theory
of
Parsing, Translation and Compiling}, volume
~1.
\newblock
Prentice - {Hall}, Englewood
Cliffs, NJ.


\end
{thebibliography}

\end
{document}






